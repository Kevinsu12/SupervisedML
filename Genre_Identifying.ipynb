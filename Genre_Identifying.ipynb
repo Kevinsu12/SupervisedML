{

  {
   "cell_type": "markdown",
   "metadata": {},
   "source": [
    "# Abstract \n",
    "In this age, music has become an important part of people’s lives and an incredibly important part of their individuality, so why are our music recommendation systems based on the data from other users? Our research focuses on Spotify, a popular Swedish music service. We believe a better algorithm would focus on the content and composition of the songs to recommend objectively similar songs to users. Our research aims to look at a simpler classification, the first step towards creating this type of classification algorithm is a supervised machine learning algorithm that classifies songs into different genres based on different features of the song. The dataset that we have looks at different features of the songs like danceability, loudness, and tempo and also provides the true label for the genre of the song. The success of our algorithm will be based on how accurately the algorithm can predict the genre of a song, based on these features. We ran three different models, one vs rest classifier, logistic regression, and random forest classifier. The random forest classifier performed the best by far. Additionally, we noticed across the three algortihms that the classical genre was classified the most accurately."
   ]
  },
  {
   "cell_type": "markdown",
   "metadata": {},
   "source": [
    "# Background\n",
    "\n",
    "A plethora of research has gone into recommendation algorithms, picking apart every pro and con of the incredibly common mechanism. Research into these algorithms doesn’t converge to provide one technique as the most effective or efficient. Our research plans to specifically place emphasis on Spotify, the incredibly popular Swedish music service. Spotify’s current algorithm pulls from other users data to compare what users with similar music preferences listen to. This recommendation system is called “collaborative filtering”. “If user A has enjoyed songs X, Y and Z, and user B has enjoyed songs X and Y (but haven't heard Z yet), we should recommend song Z to them” <a name=\"mustomorrow\"></a>[<sup>[1]</sup>](#mustomorrownote).\n",
    "\n",
    "Instead, if we could create a new algorithm that focused on the content of songs, we may be able to use machine learning to create a cheaper, better system. This system would focus on quantifying different aspects of songs and finding similar songs to recommend to users. For this theoretical recommendation algorithm, one of the most important factors in determining a similar song, is identifying songs in the same genre. But how is genre classified? According to Merriam-Webster, a genre is “a category of artistic, musical, or literary composition characterized by a particular style, form, or content” <a name=\"merriam\"></a>[<sup>[2]</sup>](#merriamnote). The definition of different genres is subjective. When a singer or songwriter creates a new song, they are responsible for categorizing that song into genres, yet no standards exist for such classification. \n",
    "\n",
    "Therefore, in order to produce a machine learning algorithm for music recommendation, one must first be able to classify songs into standardized genres based on the objective content of the song; Our algorithm aims to do just that. Utilizing features of music like danceability, energy, and instrumentalness, we will classify different songs into popular genres."
   ]
  },
  {
   "cell_type": "markdown",
   "metadata": {},
   "source": [
    "# Problem Statement\n",
    "\n",
    "As we stated above, the current song recommendation doesn’t objectively rely on the similarity of the songs but similar users’ listening patterns. The purpose of our project is to focus on the very first step of this more efficient and intricate song recommendation system:  identifying the genre of the current song the user is listening to, hence creating a better recommendation algorithm for spotify recommended songs. We will focus on more technical features of the song itself instead of a similar user’s listening pattern. Our objective is to find the best regression algorithm which generates the most accurate prediction of the song’s genre. "
   ]
  },
  {
   "cell_type": "markdown",
   "metadata": {},
   "source": [
    "# Data\n",
    "\n",
    "There is no shortage of Spotify data that can be found online. We will be working with this dataset found on Kaggle.com:\n",
    "Spotify Tracks Dataset\n",
    "- Link: https://www.kaggle.com/datasets/maharshipandya/-spotify-tracks-dataset\n",
    "- 114,000 rows, 20 columns\n",
    "- Each row includes objective information about the song (tempo, length, etc.), subjective information (danceability, energy, etc.), genre, and more.\n",
    "- Includes over 125 genres.\n",
    "\n",
    "After obtaining the dataset, the next step is to clean it. We dropped the first columns that would be irrelevant to our analysis, like the track ID, the artist name and the album name. We decided that some features will likely not be as relevant. Because of this, we decided to drop explicit, popularity, and mode. We also decided to drop key, because some of the songs have keys that could not be detected, and there may be a pattern to which song’s keys could not be detected. This meant we could not simply drop the songs where no key was detected.\n",
    "\n",
    "When trying to fit our classifier, we discovered that our data set is entirely too large. Our data set has 114 genres of 1,000 songs each. We decided that we should do less genres, so we decided on a list of 8 genres to classify. We chose to keep pop, country, edm, rock, classical, hip-hop, jazz, and gospel. The code of the data cleaning steps is below. Additionaly, some is icnluded within the \"feature selection\" section of the results."
   ]
  },
  {
   "cell_type": "markdown",
   "metadata": {},
   "source": [
    "## Data Cleaning"
   ]
  },
  {
   "cell_type": "code",
   "execution_count": 21,
   "metadata": {},
   "outputs": [],
   "source": [
    "# Import pandas module\n",
    "import pandas as pd"
   ]
  },
  {
   "cell_type": "code",
   "execution_count": 22,
   "metadata": {},
   "outputs": [
    {
     "data": {
      "text/plain": [
       "(114000, 21)"
      ]
     },
     "execution_count": 22,
     "metadata": {},
     "output_type": "execute_result"
    }
   ],
   "source": [
    "# Import dataset\n",
    "df = pd.read_csv('dataset.csv')\n",
    "df.shape"
   ]
  },
  {
   "cell_type": "markdown",
   "metadata": {},
   "source": [
    "Now we are going to check if our dataset has any missing value."
   ]
  },
  {
   "cell_type": "code",
   "execution_count": 40,
   "metadata": {},
   "outputs": [
    {
     "data": {
      "text/plain": [
       "False"
      ]
     },
     "execution_count": 40,
     "metadata": {},
     "output_type": "execute_result"
    }
   ],
   "source": [
    "df.isnull().values.any()"
   ]
  },
  {
   "cell_type": "code",
   "execution_count": 41,
   "metadata": {},
   "outputs": [
    {
     "data": {
      "text/plain": [
       "danceability        0\n",
       "energy              0\n",
       "loudness            0\n",
       "speechiness         0\n",
       "acousticness        0\n",
       "instrumentalness    0\n",
       "liveness            0\n",
       "valence             0\n",
       "tempo               0\n",
       "time_signature      0\n",
       "track_genre         0\n",
       "dtype: int64"
      ]
     },
     "execution_count": 41,
     "metadata": {},
     "output_type": "execute_result"
    }
   ],
   "source": [
    "df.isnull().sum()"
   ]
  },
  {
   "cell_type": "markdown",
   "metadata": {},
   "source": [
    "As the above results show, our dataset doesn't have any missing value, and it's very organized and complete. Although we do have some redundant datas that we don't need for this project, we will do the feature selection part below."
   ]
  },
  {
   "cell_type": "markdown",
   "metadata": {},
   "source": [
    "# Evaluation Metrics\n",
    "\n",
    "The evaluation metric that helps quantify the performance of our model is going to be a multiclass confusion matrix. A multiclass confusion matrix is a table that summarizes the performance of a multiclass classification model. In the case of our multiclass confusion matrix we will be comparing the different genres where we will be looking for diagonal results. The diagonal of the matrix represents the number of correctly classified samples for each class. And the off-diagonal elements represent the misclassified samples. We can then take values from our confusion matrix to calculate precision, recall, accuracy, and F1 score. "
   ]
  },
  {
   "cell_type": "markdown",
   "metadata": {},
   "source": [
    "# Proposed Solution\n",
    "\n",
    "We will utilize the datasets of spotify on Kaggle that were extracted through Spotify API and we will determine a fix set of features for anaylyzing and representing a song. We are going to use a .2 test size for test, train split. The 3 benchmark algorithms we are going to use for is onevsrest classfier,logistic regression, and random forst regression. First, we will decide what is the best set of features to determine the similarity of the songs. The datasets provided us various types of features such as dancibility, loudness, key, and livenss, etc. As some features may not be as representative as other features, it’s important to select the most indicative features to feed into our algorithm. We also will need to select the most optimal hyperparameter for our classifier algorithm. As we running the algorithm, we want to make sure that both generalization error and testing error will be minimized. We will use provided genres to generate truth label and compare with our testing label. "
   ]
  },
  {
   "cell_type": "markdown",
   "metadata": {},
   "source": [
    "# Results\n",
    "\n",
    "\n",
    "\n"
   ]
  },
  {
   "cell_type": "code",
   "execution_count": 28,
   "metadata": {},
   "outputs": [],
   "source": [
    "import numpy as np\n",
    "import pandas as pd\n",
    "import seaborn as sns\n",
    "import matplotlib.pyplot as plt\n",
    "\n",
    "from sklearn.pipeline import make_pipeline\n",
    "from sklearn.pipeline import Pipeline\n",
    "from sklearn.preprocessing import PolynomialFeatures\n",
    "from sklearn.linear_model import LinearRegression, LogisticRegression\n",
    "from sklearn.preprocessing import StandardScaler\n",
    "from sklearn.metrics import f1_score, mean_squared_error\n",
    "from sklearn.model_selection import train_test_split\n",
    "from sklearn.ensemble import RandomForestClassifier\n",
    "from sklearn.metrics import zero_one_loss, accuracy_score, roc_auc_score,auc\n",
    "from sklearn.metrics import roc_curve, precision_recall_curve,classification_report\n",
    "from sklearn.metrics import ConfusionMatrixDisplay, confusion_matrix\n",
    "from sklearn.model_selection import GridSearchCV, train_test_split\n",
    "from sklearn.metrics import plot_confusion_matrix, f1_score, confusion_matrix,precision_score\n"
   ]
  },
  {
   "cell_type": "markdown",
   "metadata": {},
   "source": [
    "### Feature selection\n",
    "As we imported the data, we have noticed that although our data set is very complete, it can be too big for any alogrithms to run. On top of that, a lot genres are very similar. For example, there is little to no difference between \"death-metal\" and \"metal\" or \"edm\" and \"electronic\", so we narrow down the genres of music and size down the data."
   ]
  },
  {
   "cell_type": "code",
   "execution_count": 29,
   "metadata": {},
   "outputs": [
    {
     "data": {
      "text/plain": [
       "array(['acoustic', 'afrobeat', 'alt-rock', 'alternative', 'ambient',\n",
       "       'anime', 'black-metal', 'bluegrass', 'blues', 'brazil',\n",
       "       'breakbeat', 'british', 'cantopop', 'chicago-house', 'children',\n",
       "       'chill', 'classical', 'club', 'comedy', 'country', 'dance',\n",
       "       'dancehall', 'death-metal', 'deep-house', 'detroit-techno',\n",
       "       'disco', 'disney', 'drum-and-bass', 'dub', 'dubstep', 'edm',\n",
       "       'electro', 'electronic', 'emo', 'folk', 'forro', 'french', 'funk',\n",
       "       'garage', 'german', 'gospel', 'goth', 'grindcore', 'groove',\n",
       "       'grunge', 'guitar', 'happy', 'hard-rock', 'hardcore', 'hardstyle',\n",
       "       'heavy-metal', 'hip-hop', 'honky-tonk', 'house', 'idm', 'indian',\n",
       "       'indie-pop', 'indie', 'industrial', 'iranian', 'j-dance', 'j-idol',\n",
       "       'j-pop', 'j-rock', 'jazz', 'k-pop', 'kids', 'latin', 'latino',\n",
       "       'malay', 'mandopop', 'metal', 'metalcore', 'minimal-techno', 'mpb',\n",
       "       'new-age', 'opera', 'pagode', 'party', 'piano', 'pop-film', 'pop',\n",
       "       'power-pop', 'progressive-house', 'psych-rock', 'punk-rock',\n",
       "       'punk', 'r-n-b', 'reggae', 'reggaeton', 'rock-n-roll', 'rock',\n",
       "       'rockabilly', 'romance', 'sad', 'salsa', 'samba', 'sertanejo',\n",
       "       'show-tunes', 'singer-songwriter', 'ska', 'sleep', 'songwriter',\n",
       "       'soul', 'spanish', 'study', 'swedish', 'synth-pop', 'tango',\n",
       "       'techno', 'trance', 'trip-hop', 'turkish', 'world-music'],\n",
       "      dtype=object)"
      ]
     },
     "execution_count": 29,
     "metadata": {},
     "output_type": "execute_result"
    }
   ],
   "source": [
    "df['track_genre'].unique()"
   ]
  },
  {
   "cell_type": "code",
   "execution_count": 30,
   "metadata": {},
   "outputs": [
    {
     "data": {
      "text/plain": [
       "array(['classical', 'country', 'edm', 'gospel', 'hip-hop', 'jazz', 'pop',\n",
       "       'rock'], dtype=object)"
      ]
     },
     "execution_count": 30,
     "metadata": {},
     "output_type": "execute_result"
    }
   ],
   "source": [
    "df = df.loc[df['track_genre'].isin(['pop','country','edm','rock','classical','hip-hop','jazz','gospel'])]\n",
    "df['track_genre'].unique()"
   ]
  },
  {
   "cell_type": "code",
   "execution_count": 31,
   "metadata": {},
   "outputs": [
    {
     "data": {
      "text/html": [
       "<div>\n",
       "<style scoped>\n",
       "    .dataframe tbody tr th:only-of-type {\n",
       "        vertical-align: middle;\n",
       "    }\n",
       "\n",
       "    .dataframe tbody tr th {\n",
       "        vertical-align: top;\n",
       "    }\n",
       "\n",
       "    .dataframe thead th {\n",
       "        text-align: right;\n",
       "    }\n",
       "</style>\n",
       "<table border=\"1\" class=\"dataframe\">\n",
       "  <thead>\n",
       "    <tr style=\"text-align: right;\">\n",
       "      <th></th>\n",
       "      <th>Unnamed: 0</th>\n",
       "      <th>track_id</th>\n",
       "      <th>artists</th>\n",
       "      <th>album_name</th>\n",
       "      <th>track_name</th>\n",
       "      <th>popularity</th>\n",
       "      <th>duration_ms</th>\n",
       "      <th>explicit</th>\n",
       "      <th>danceability</th>\n",
       "      <th>energy</th>\n",
       "      <th>...</th>\n",
       "      <th>loudness</th>\n",
       "      <th>mode</th>\n",
       "      <th>speechiness</th>\n",
       "      <th>acousticness</th>\n",
       "      <th>instrumentalness</th>\n",
       "      <th>liveness</th>\n",
       "      <th>valence</th>\n",
       "      <th>tempo</th>\n",
       "      <th>time_signature</th>\n",
       "      <th>track_genre</th>\n",
       "    </tr>\n",
       "  </thead>\n",
       "  <tbody>\n",
       "    <tr>\n",
       "      <th>16000</th>\n",
       "      <td>16000</td>\n",
       "      <td>7wrYBASu0OoxoDErd4Edxd</td>\n",
       "      <td>Bombay Jayashri</td>\n",
       "      <td>Rehnaa Hai Terre Dil Mein</td>\n",
       "      <td>Zara Zara</td>\n",
       "      <td>58</td>\n",
       "      <td>298266</td>\n",
       "      <td>False</td>\n",
       "      <td>0.643</td>\n",
       "      <td>0.268</td>\n",
       "      <td>...</td>\n",
       "      <td>-15.073</td>\n",
       "      <td>0</td>\n",
       "      <td>0.0900</td>\n",
       "      <td>0.593</td>\n",
       "      <td>0.000002</td>\n",
       "      <td>0.316</td>\n",
       "      <td>0.620</td>\n",
       "      <td>143.813</td>\n",
       "      <td>4</td>\n",
       "      <td>classical</td>\n",
       "    </tr>\n",
       "    <tr>\n",
       "      <th>16001</th>\n",
       "      <td>16001</td>\n",
       "      <td>72HdutlIHBZJ7WT1xVAAZT</td>\n",
       "      <td>Shankar;Ehsaan;Loy;Alisha Chinai;Shankar Mahad...</td>\n",
       "      <td>Bunty Aur Babli</td>\n",
       "      <td>Kajra Re</td>\n",
       "      <td>59</td>\n",
       "      <td>482586</td>\n",
       "      <td>False</td>\n",
       "      <td>0.484</td>\n",
       "      <td>0.898</td>\n",
       "      <td>...</td>\n",
       "      <td>-4.132</td>\n",
       "      <td>1</td>\n",
       "      <td>0.1640</td>\n",
       "      <td>0.365</td>\n",
       "      <td>0.000000</td>\n",
       "      <td>0.091</td>\n",
       "      <td>0.680</td>\n",
       "      <td>91.975</td>\n",
       "      <td>4</td>\n",
       "      <td>classical</td>\n",
       "    </tr>\n",
       "    <tr>\n",
       "      <th>16002</th>\n",
       "      <td>16002</td>\n",
       "      <td>7JGgKHHDgJCJkQCQxyHHdl</td>\n",
       "      <td>Bombay Jayashri;DJ Aftab</td>\n",
       "      <td>Hindi Slowed Reverb Bollywood Lofi</td>\n",
       "      <td>Zara Zara - Lofi</td>\n",
       "      <td>54</td>\n",
       "      <td>219437</td>\n",
       "      <td>False</td>\n",
       "      <td>0.608</td>\n",
       "      <td>0.638</td>\n",
       "      <td>...</td>\n",
       "      <td>-6.008</td>\n",
       "      <td>0</td>\n",
       "      <td>0.0292</td>\n",
       "      <td>0.581</td>\n",
       "      <td>0.017200</td>\n",
       "      <td>0.448</td>\n",
       "      <td>0.439</td>\n",
       "      <td>140.109</td>\n",
       "      <td>4</td>\n",
       "      <td>classical</td>\n",
       "    </tr>\n",
       "    <tr>\n",
       "      <th>16003</th>\n",
       "      <td>16003</td>\n",
       "      <td>3YRj4jmwois2ctPnhwSwFo</td>\n",
       "      <td>Bombay Jayashri</td>\n",
       "      <td>Minnalae</td>\n",
       "      <td>Vaseegara</td>\n",
       "      <td>68</td>\n",
       "      <td>299146</td>\n",
       "      <td>False</td>\n",
       "      <td>0.695</td>\n",
       "      <td>0.293</td>\n",
       "      <td>...</td>\n",
       "      <td>-16.278</td>\n",
       "      <td>0</td>\n",
       "      <td>0.0431</td>\n",
       "      <td>0.596</td>\n",
       "      <td>0.015800</td>\n",
       "      <td>0.132</td>\n",
       "      <td>0.637</td>\n",
       "      <td>143.804</td>\n",
       "      <td>4</td>\n",
       "      <td>classical</td>\n",
       "    </tr>\n",
       "    <tr>\n",
       "      <th>16004</th>\n",
       "      <td>16004</td>\n",
       "      <td>3tp3ij9dtY3CacQgd1OvRf</td>\n",
       "      <td>Bombay Jayashri;Swattrex</td>\n",
       "      <td>Hindi LoFi Vibe</td>\n",
       "      <td>Zara Zara - LoFi Chill</td>\n",
       "      <td>59</td>\n",
       "      <td>387716</td>\n",
       "      <td>False</td>\n",
       "      <td>0.583</td>\n",
       "      <td>0.308</td>\n",
       "      <td>...</td>\n",
       "      <td>-18.303</td>\n",
       "      <td>0</td>\n",
       "      <td>0.0465</td>\n",
       "      <td>0.581</td>\n",
       "      <td>0.010600</td>\n",
       "      <td>0.257</td>\n",
       "      <td>0.241</td>\n",
       "      <td>118.226</td>\n",
       "      <td>4</td>\n",
       "      <td>classical</td>\n",
       "    </tr>\n",
       "  </tbody>\n",
       "</table>\n",
       "<p>5 rows × 21 columns</p>\n",
       "</div>"
      ],
      "text/plain": [
       "       Unnamed: 0                track_id  \\\n",
       "16000       16000  7wrYBASu0OoxoDErd4Edxd   \n",
       "16001       16001  72HdutlIHBZJ7WT1xVAAZT   \n",
       "16002       16002  7JGgKHHDgJCJkQCQxyHHdl   \n",
       "16003       16003  3YRj4jmwois2ctPnhwSwFo   \n",
       "16004       16004  3tp3ij9dtY3CacQgd1OvRf   \n",
       "\n",
       "                                                 artists  \\\n",
       "16000                                    Bombay Jayashri   \n",
       "16001  Shankar;Ehsaan;Loy;Alisha Chinai;Shankar Mahad...   \n",
       "16002                           Bombay Jayashri;DJ Aftab   \n",
       "16003                                    Bombay Jayashri   \n",
       "16004                           Bombay Jayashri;Swattrex   \n",
       "\n",
       "                               album_name              track_name  popularity  \\\n",
       "16000           Rehnaa Hai Terre Dil Mein               Zara Zara          58   \n",
       "16001                     Bunty Aur Babli                Kajra Re          59   \n",
       "16002  Hindi Slowed Reverb Bollywood Lofi        Zara Zara - Lofi          54   \n",
       "16003                            Minnalae               Vaseegara          68   \n",
       "16004                     Hindi LoFi Vibe  Zara Zara - LoFi Chill          59   \n",
       "\n",
       "       duration_ms  explicit  danceability  energy  ...  loudness  mode  \\\n",
       "16000       298266     False         0.643   0.268  ...   -15.073     0   \n",
       "16001       482586     False         0.484   0.898  ...    -4.132     1   \n",
       "16002       219437     False         0.608   0.638  ...    -6.008     0   \n",
       "16003       299146     False         0.695   0.293  ...   -16.278     0   \n",
       "16004       387716     False         0.583   0.308  ...   -18.303     0   \n",
       "\n",
       "       speechiness  acousticness  instrumentalness  liveness  valence  \\\n",
       "16000       0.0900         0.593          0.000002     0.316    0.620   \n",
       "16001       0.1640         0.365          0.000000     0.091    0.680   \n",
       "16002       0.0292         0.581          0.017200     0.448    0.439   \n",
       "16003       0.0431         0.596          0.015800     0.132    0.637   \n",
       "16004       0.0465         0.581          0.010600     0.257    0.241   \n",
       "\n",
       "         tempo  time_signature  track_genre  \n",
       "16000  143.813               4    classical  \n",
       "16001   91.975               4    classical  \n",
       "16002  140.109               4    classical  \n",
       "16003  143.804               4    classical  \n",
       "16004  118.226               4    classical  \n",
       "\n",
       "[5 rows x 21 columns]"
      ]
     },
     "execution_count": 31,
     "metadata": {},
     "output_type": "execute_result"
    }
   ],
   "source": [
    "df.head()"
   ]
  },
  {
   "cell_type": "markdown",
   "metadata": {},
   "source": [
    "As you can see from the head above that we also have many features that won't be useful during the model selections process such as \"track_id\", \"artists\", etc. So we remove the such features which leave us 11 features left with last column being the true_labels."
   ]
  },
  {
   "cell_type": "code",
   "execution_count": 32,
   "metadata": {},
   "outputs": [
    {
     "data": {
      "text/html": [
       "<div>\n",
       "<style scoped>\n",
       "    .dataframe tbody tr th:only-of-type {\n",
       "        vertical-align: middle;\n",
       "    }\n",
       "\n",
       "    .dataframe tbody tr th {\n",
       "        vertical-align: top;\n",
       "    }\n",
       "\n",
       "    .dataframe thead th {\n",
       "        text-align: right;\n",
       "    }\n",
       "</style>\n",
       "<table border=\"1\" class=\"dataframe\">\n",
       "  <thead>\n",
       "    <tr style=\"text-align: right;\">\n",
       "      <th></th>\n",
       "      <th>danceability</th>\n",
       "      <th>energy</th>\n",
       "      <th>loudness</th>\n",
       "      <th>speechiness</th>\n",
       "      <th>acousticness</th>\n",
       "      <th>instrumentalness</th>\n",
       "      <th>liveness</th>\n",
       "      <th>valence</th>\n",
       "      <th>tempo</th>\n",
       "      <th>time_signature</th>\n",
       "    </tr>\n",
       "  </thead>\n",
       "  <tbody>\n",
       "    <tr>\n",
       "      <th>count</th>\n",
       "      <td>8000.000000</td>\n",
       "      <td>8000.000000</td>\n",
       "      <td>8000.000000</td>\n",
       "      <td>8000.000000</td>\n",
       "      <td>8000.000000</td>\n",
       "      <td>8000.000000</td>\n",
       "      <td>8000.000000</td>\n",
       "      <td>8000.000000</td>\n",
       "      <td>8000.000000</td>\n",
       "      <td>8000.00000</td>\n",
       "    </tr>\n",
       "    <tr>\n",
       "      <th>mean</th>\n",
       "      <td>0.559864</td>\n",
       "      <td>0.555010</td>\n",
       "      <td>-8.885215</td>\n",
       "      <td>0.065002</td>\n",
       "      <td>0.399420</td>\n",
       "      <td>0.098578</td>\n",
       "      <td>0.191144</td>\n",
       "      <td>0.471879</td>\n",
       "      <td>119.528736</td>\n",
       "      <td>3.88175</td>\n",
       "    </tr>\n",
       "    <tr>\n",
       "      <th>std</th>\n",
       "      <td>0.166524</td>\n",
       "      <td>0.248853</td>\n",
       "      <td>5.907605</td>\n",
       "      <td>0.066523</td>\n",
       "      <td>0.349187</td>\n",
       "      <td>0.264227</td>\n",
       "      <td>0.163075</td>\n",
       "      <td>0.236301</td>\n",
       "      <td>30.082999</td>\n",
       "      <td>0.45885</td>\n",
       "    </tr>\n",
       "    <tr>\n",
       "      <th>min</th>\n",
       "      <td>0.000000</td>\n",
       "      <td>0.000756</td>\n",
       "      <td>-41.531000</td>\n",
       "      <td>0.000000</td>\n",
       "      <td>0.000010</td>\n",
       "      <td>0.000000</td>\n",
       "      <td>0.017900</td>\n",
       "      <td>0.000000</td>\n",
       "      <td>0.000000</td>\n",
       "      <td>0.00000</td>\n",
       "    </tr>\n",
       "    <tr>\n",
       "      <th>25%</th>\n",
       "      <td>0.445000</td>\n",
       "      <td>0.387000</td>\n",
       "      <td>-10.094250</td>\n",
       "      <td>0.033200</td>\n",
       "      <td>0.071175</td>\n",
       "      <td>0.000000</td>\n",
       "      <td>0.097200</td>\n",
       "      <td>0.279000</td>\n",
       "      <td>95.129000</td>\n",
       "      <td>4.00000</td>\n",
       "    </tr>\n",
       "    <tr>\n",
       "      <th>50%</th>\n",
       "      <td>0.572000</td>\n",
       "      <td>0.593000</td>\n",
       "      <td>-7.024000</td>\n",
       "      <td>0.042300</td>\n",
       "      <td>0.293000</td>\n",
       "      <td>0.000002</td>\n",
       "      <td>0.126000</td>\n",
       "      <td>0.464000</td>\n",
       "      <td>120.041000</td>\n",
       "      <td>4.00000</td>\n",
       "    </tr>\n",
       "    <tr>\n",
       "      <th>75%</th>\n",
       "      <td>0.684000</td>\n",
       "      <td>0.753000</td>\n",
       "      <td>-5.168000</td>\n",
       "      <td>0.062100</td>\n",
       "      <td>0.733250</td>\n",
       "      <td>0.000679</td>\n",
       "      <td>0.229250</td>\n",
       "      <td>0.655000</td>\n",
       "      <td>139.167750</td>\n",
       "      <td>4.00000</td>\n",
       "    </tr>\n",
       "    <tr>\n",
       "      <th>max</th>\n",
       "      <td>0.964000</td>\n",
       "      <td>0.994000</td>\n",
       "      <td>0.366000</td>\n",
       "      <td>0.905000</td>\n",
       "      <td>0.996000</td>\n",
       "      <td>0.984000</td>\n",
       "      <td>0.989000</td>\n",
       "      <td>0.980000</td>\n",
       "      <td>214.016000</td>\n",
       "      <td>5.00000</td>\n",
       "    </tr>\n",
       "  </tbody>\n",
       "</table>\n",
       "</div>"
      ],
      "text/plain": [
       "       danceability       energy     loudness  speechiness  acousticness  \\\n",
       "count   8000.000000  8000.000000  8000.000000  8000.000000   8000.000000   \n",
       "mean       0.559864     0.555010    -8.885215     0.065002      0.399420   \n",
       "std        0.166524     0.248853     5.907605     0.066523      0.349187   \n",
       "min        0.000000     0.000756   -41.531000     0.000000      0.000010   \n",
       "25%        0.445000     0.387000   -10.094250     0.033200      0.071175   \n",
       "50%        0.572000     0.593000    -7.024000     0.042300      0.293000   \n",
       "75%        0.684000     0.753000    -5.168000     0.062100      0.733250   \n",
       "max        0.964000     0.994000     0.366000     0.905000      0.996000   \n",
       "\n",
       "       instrumentalness     liveness      valence        tempo  time_signature  \n",
       "count       8000.000000  8000.000000  8000.000000  8000.000000      8000.00000  \n",
       "mean           0.098578     0.191144     0.471879   119.528736         3.88175  \n",
       "std            0.264227     0.163075     0.236301    30.082999         0.45885  \n",
       "min            0.000000     0.017900     0.000000     0.000000         0.00000  \n",
       "25%            0.000000     0.097200     0.279000    95.129000         4.00000  \n",
       "50%            0.000002     0.126000     0.464000   120.041000         4.00000  \n",
       "75%            0.000679     0.229250     0.655000   139.167750         4.00000  \n",
       "max            0.984000     0.989000     0.980000   214.016000         5.00000  "
      ]
     },
     "execution_count": 32,
     "metadata": {},
     "output_type": "execute_result"
    }
   ],
   "source": [
    "df = df.drop(['Unnamed: 0','track_id','artists','album_name','explicit','popularity',\n",
    "              'mode','key','track_name','duration_ms'],axis = 1)\n",
    "True_labels = df['track_genre']\n",
    "df.describe()"
   ]
  },
  {
   "cell_type": "markdown",
   "metadata": {},
   "source": [
    "Finally, our dataset is ready for model and hyperparameter selection."
   ]
  },
  {
   "cell_type": "code",
   "execution_count": 33,
   "metadata": {},
   "outputs": [
    {
     "name": "stdout",
     "output_type": "stream",
     "text": [
      "The shape of our data:\n",
      "X_train: (6400, 10)\n",
      "X_test: (1600, 10)\n",
      "y_train: (6400,)\n",
      "y_test: (1600,)\n"
     ]
    }
   ],
   "source": [
    "X = df.drop(['track_genre'],axis = 1)\n",
    "y = True_labels\n",
    "\n",
    "X_train, X_test, y_train, y_test = train_test_split(X, y, test_size=0.2, stratify=y)\n",
    "\n",
    "print(f\"The shape of our data:\\nX_train: {X_train.shape}\\nX_test: {X_test.shape}\" \\\n",
    "      f\"\\ny_train: {y_train.shape}\\ny_test: {y_test.shape}\")"
   ]
  },
  {
   "cell_type": "markdown",
   "metadata": {},
   "source": [
    "### OneVsRestClassfier\n",
    "The first model we thought about is a OneVsRestClassfier from sklearn as it's the most straight foward model to apply on our data set. "
   ]
  },
  {
   "cell_type": "code",
   "execution_count": 34,
   "metadata": {
    "scrolled": true
   },
   "outputs": [
    {
     "data": {
      "text/plain": [
       "OneVsRestClassifier(estimator=Pipeline(steps=[('scaler', StandardScaler()),\n",
       "                                              ('pca', PCA(n_components=10)),\n",
       "                                              ('classifier',\n",
       "                                               SGDClassifier(class_weight='balanced'))]))"
      ]
     },
     "execution_count": 34,
     "metadata": {},
     "output_type": "execute_result"
    }
   ],
   "source": [
    "from sklearn.multiclass import OneVsRestClassifier\n",
    "from sklearn.linear_model import SGDClassifier\n",
    "from sklearn.decomposition import PCA\n",
    "\n",
    "scaler = StandardScaler()\n",
    "pca_step = ('pca', PCA(n_components=10))\n",
    "classifier = SGDClassifier(class_weight='balanced')\n",
    "pipelines = Pipeline(steps=[(\"scaler\", scaler), pca_step, (\"classifier\", classifier)])\n",
    "onevrest_classifier = OneVsRestClassifier(pipelines)\n",
    "onevrest_classifier.fit(X_train, y_train)"
   ]
  },
  {
   "cell_type": "code",
   "execution_count": 35,
   "metadata": {},
   "outputs": [
    {
     "name": "stdout",
     "output_type": "stream",
     "text": [
      "0.423125\n",
      "              precision    recall  f1-score   support\n",
      "\n",
      "   classical      0.862     0.685     0.763       200\n",
      "     country      0.201     0.350     0.255       200\n",
      "         edm      0.477     0.305     0.372       200\n",
      "      gospel      0.477     0.410     0.441       200\n",
      "     hip-hop      0.522     0.530     0.526       200\n",
      "        jazz      0.443     0.585     0.504       200\n",
      "         pop      0.320     0.120     0.175       200\n",
      "        rock      0.320     0.400     0.356       200\n",
      "\n",
      "    accuracy                          0.423      1600\n",
      "   macro avg      0.453     0.423     0.424      1600\n",
      "weighted avg      0.453     0.423     0.424      1600\n",
      "\n"
     ]
    },
    {
     "data": {
      "image/png": "iVBORw0KGgoAAAANSUhEUgAAAVwAAAEhCAYAAAAzqhgzAAAAOXRFWHRTb2Z0d2FyZQBNYXRwbG90bGliIHZlcnNpb24zLjQuMiwgaHR0cHM6Ly9tYXRwbG90bGliLm9yZy8rg+JYAAAACXBIWXMAAAsTAAALEwEAmpwYAABic0lEQVR4nO2dd3gUVdfAf2c3PSEJITTpIIKAFOmCCopixxdfFbt+9o4dey+vvWFBVBRsqEhRpIiAhSJNpEmREqqQhEAaaXu+P+4EAiZhyc4uLN7f88yzM3dm77kzO3vmzLn3niOqisVisViCj+dgN8BisVj+LViFa7FYLCHCKlyLxWIJEVbhWiwWS4iwCtdisVhCRMTBbsChTGqKVxs3iAyJrJWLE0IiB0B9vpDJAhBP6J7rqqE7t+Ia8SGTFZGeGzJZELrfLN+XQ6HukkDq6Ns7XjMyS/w6dt4fBRNV9bRA5AWCVbiV0LhBJL9NbBASWae3OD4kcgB82dkhkwXgiY0LmSwtLAyZrG3ndQ6ZrNT3ZoVMFoAnITQGwKycsQHXkZ5ZwuyJ9f06NrLuX6kBCwwAq3AtFkuYo5SE8M0mEKzCtVgsYY0CPsJjApdVuBaLJezxYS1ci8ViCTqKUmRdChaLxRJ8FCixLgWLxWIJDdaHa7FYLCFAgZIwiXpoFa7FYgl7wsODaxXuAfPSHQ2Y/UMiyanFDJm6HICPnq/DzIlJiEByahF3v5pGjTrF/DiqOl++VWv3d9csi2HwxBU0a5MfcDuGTZlDXq4Xn08oKRFuP699wHVWRKdeO7nhyU14Pcr3n6Uw8s3aQZMF4PEor4/+g/QtUTx23dFBkZFat5B7XllD9ZrFqML4T1MZ84H75+URH8Ov+5pt2fEM/PQMAC7ssogLuiymxOfhl5UNeX1yd1dl3vlSGl377CQrPYLrT27pat3lEcp7sTwUtT7c8hCRx4AcVX3RpfpmqOpxoWzHqRdmcs5V6bxwe8PdZf+9cStX3LsFgNFDUxnxSh1u/98GTuq/nZP6bweMsn3sqiauKNtSBl1xDDu3B3fqscej3PzMRu4f0JT0zZG8MX4lsyYmkbYyJmgy+125mbRVscQl+Dddsyr4SoT3nmrAqsVxxMaX8MZ3y1jwcyJpK2NdlXNRt0WsTa9OfLSZAdep8UZObLmWAW9fQFGJl+rx7t0PpUwamcLYD1O557U01+uuiFDcixWhCkXhoW/DO3hNVZRtoBzTLZdq1fdWBPHV9rzQ7Mr3IOXMDJ86ujq9zt0e7Oa5TosOeWxaG8WWtGiKizxMG5NM9747giYvtU4BXXptZ+LI4FrRmVsjWbXYTDnOz/WyflUMNeoUuSqjVmIOPZunMXr+Hiv9v52XMOyXDhSVeAHYnuuuggdYPDuB7Cyv6/Ueugglfi4Hm6AqXBG5XET+EJGFIjJ8n33XisgcZ9/XIhLnlJ8vIoud8p+cstYi8puI/O7U19wpzylT370issj53nOVyQgGHz5Xh0s6tuLHUdW5/J7N/9j/09hkep+b5Zo8BZ5+fzGvf72A0y/Y4lq9+1KjThHbNkXt3k7fHElqXXcVU1muf2gt7/+vEb4QWiy16xfQrHUeyxe4G4zmrtNm8NrkbnudS8MaO+jQcDMfXTOKIVeOodURW12VeTAI1b1YmXyf+rccbIKmcEWkNfAgcJKqtgNu3+eQUara2dm3DLjaKX8E6OuUn+OU3QC8pqrtgU7Ahn1knQ6cC3R1vvf8fmRU1u7rRGSuiMzdluH/K+1Vg7bwybylnNR/O2M/qLnXvj/nxxEd66Nxy11+17c/7rqoLbf278DD17bmrEs20aZTcKzO8qz1YHUId+m9nayMSFYtCV3ktJi4Eh56dzXvPt6AvBz3rMLjj1rH9twY/ty8973g9fhIjC3giqH/4bXJ3Xju/MkQJv7HigjVvVgZ1sKFk4CvVDUdQFUz99nfRkR+FpFFwCVAa6f8V2CYiFwLlP4DZgIPiMh9QCNV3dfx1Qf4UFXz9pFVkYwKUdUhqtpJVTvVrHHgf8De/9nOL+OT9iqbNibZdXdC5tZoAHZkRjFjcg1atA1OBLD0zZHUPGJPBK7UukVkbAmOr65Vx510O3k7w6bNZ9CrK2nXfSf3vLQyKLIAvBHKw++uZuo3Kfw6obqrdbdrsIUTWqxj3MARPPPfH+jcZBNP9p/C1p0J/LisCSAs2VgbVSE5zr0H8cEgVPdiRZiJD1bhCpU/uocBt6jqMcDjQAyAqt4APAQ0AH4XkRqq+inG2s0HJorISX7KKleG22xcveeVe9bEJBocWbB72+eDn79Nple/LNfkRceWEBtfvHv92B5ZrF0ZnNisy3+Po16TQmo3KCAi0kevflnMmpS0/y9WgWEvNuKynh25stexPDewOQtnJvLCXc2DIguUO15YS9qqGEYNdd9f/OaUrpzx8mWc/eqlPPBVH+asOYKHR53MtD8b07nJJgAa1sgiwltCVl7wOiCDTSjvxYpQoEg9fi0Hm2COUpgCfCMir6hqhoik7LO/GrBZRCIx1udGABFppqqzgdkicjbQQESSgNWq+rqINAXaAj+WqWsS8IiIfKqqeSKS4li55coIhGdvbMQfMxPYkRnBJR1bcdldW/jtx0Q2/BWNxwO16hVy2//2eDwWzUogtW4RdRu5F6e1eo0iHh68FACvF6Z9W5N5P7troZXiKxEGP1iPZz5djccLkz5PYd2K8FUQpbTunEuf8zJZsyyWwd+bazns+XrMmRqch0kpYxa05NF+0/jipi8oLvHy2OiTwGXLa9DgtbTtnkNSSjEj5i5h+It1mPh5DVdllBLKe7EiFKEkTPr/RYM4Q0NErgDuAUqABcBanOFYInIjcC+wDlgEVFPVK0VkFNAccxdOAQYCg4BLgSJgC3CxqmaKSI6qJjiyBgGXA4XAeFV9oBIZj+HHsLBO7WLUBiAPHE/cYRqA/P9sAPJAmZUzlh0l6QE9cY5uG63Dxh3h17HdGq+dp6qdApEXCEEdh6uqHwEfVbDvbeDtcsr7l3P4s86y77EJZdafA57zU8Zj+2m6xWIJE0p9uOGAnWlmsVjCHKHkEPDP+oNVuBaLJawxGR+swrVYLJagoyoUanjMrLMK12KxhD2+MPHhhocdbrFYLBVgOs08fi37Q0Q+EJGtIrK4TNkLIvKnE1bgGxFJLrPvfhFZJSLLRaTv/uq3CtdisYQ5ptPMn8UPhgGn7VM2GWijqm2BFcD9ACLSChiAmcF6GvCWiFTq27AK12KxhDWlnWb+LPutS/UnIHOfskmqWuxszgLqO+v9gM9VtUBV1wCrgC6V1W99uJWwYlEcpzUMzRjpFS/tN8yDa7R8YkXIZAFo/eCGWiyLd2voQmDGbw1evN6DTdqtx4RETuH7k12pp0T99uGmisjcMttDVHXIAYj6P+ALZ70eRgGXssEpqxCrcC0WS1ijCEXqtypLr+pMMxF5ECgGPiktKrc5lWAVrsViCWtKO82CiROm4CzgZN0TD2EDJshWKfWBTZXVY324FoslrFGEEvVvqQoichpwH3BOaQhYh7HAABGJFpEmmBgwv1VWl7VwLRZL2OPWTDMR+QzohfH1bgAexYxKiAYmi4nIP0tVb1DVJSIyEliKcTXcrKqVOvatwrVYLGGNKq7FUlDVi8opfr+S458Gnva3fqtwLRZLWGM6zezUXovFYgkJ4RKA3Cpci8US1iiCr4odYqHGKlyLxRL2WAv3X0Zq3ULueWUN1WsWowrjP01lzAfuzbCK/Dufuh/tyWAbkV5A5hn12dm5JnWHrSQis4DilGg2X9UcX5x7P2u9xnkMemHJ7u269fMZPrgJY0a4k3rojjtm06XLJrKyYrjxxtMBaNJkO7feOpeYmGK2bo3n+ee7k5fnTqbg2x9ZTJfjt5GVGcXNF/YAICGxkEHP/kGtI/LZuimW5wa1Iyc7MHlREcW8cee3REaU4PX4mLagKR9+13H3/gF9/uCm/rM5+57L2JHrbo64O19Ko2ufnWSlR3D9yS1drbuUSZePILcoEp9PKFYPF478Ly/2nUST5CwAqkUXkl0QxXlfXBAU+WVRwGcDkIcWERmImaaXt79jg4GvRHjvqQasWhxHbHwJb3y3jAU/J5K2MtaV+otqx5J2b1tHmNLkkfnktE2h+g8byTsqke2n1KP65I1U/2EjGec0ckUmwMa1cdx6vsnd5fEoH0+ZwcwpNV2rf/LkJowd25y77569u2zgwDkMHdqeRYtqceqpqznvvGUMH97WFXk/jDuCb0c25M7HF+0uO//KNSyck8KXw5py/pWrOf/K1Xz4RouA5BQWexn42pnkF0Ti9fgYfNdYZi+pz9K1talVPYdOLTewJSM4ecMmjUxh7Iep3PNaWlDqL+Wqb84ha9ee+/vuiafuXr+nxwxyCqPK+1oQODRSoPtDeDwW/GMgUG62wv1F8HGDzK2RrFpsxOfnelm/KoYadYqCIituxQ6KUqMpTokmYfF2dnYxCnBnl5okLApeLIF2XbezZX0MWze7Z5EtXlyL7Oy9/5j16+9k0SJzTvPn16Znzw3lfbVKLFmQQvaOva3Xbidu5YdvzRT4H76tR7deW12QJOQXGDkRXh8RXh/qKIVbzpvF2990rXwOaAAsnp1AdtbB7LVX+h65iu9WHBkiaVCkXr+Wg01IFa6IXO7ElFwoIsNFpJGITHHKpohIQ+e4YSLy3zLfy3E+e4nINBH5yolP+YkYbgOOAKaKyNTS74jIEyIyG3hIRL4pU98pTnbgoFC7fgHNWuexfEF8UOpPmJ9B9rGpAHiziyhJMgqrJCkKb3ZwlDzAiaf/zbTvgx+IZu3aJLp1Mxntjz9+PampwX1pSa5RyPb0aAC2p0eTnOJO5l+P+Hj//q8Z87/hzP2zHsvW1qLHMetI3xHHXxuDk7Y8VCjw3jnfMvKCLzm/9dK99nU8YjMZ+XGk7UgOTVtU8KnHr+VgEzKXgoi0Bh4EeqhquoikYDL6fqyqH4nI/wGvA+fup6oOmPiTm4BfnfpeF5E7gd6qmu4cFw8sVtVHxEwPWSYiNVV1G3AV8GEF7bwOuA4gpnyDuVJi4kp46N3VvPt4A/JygvBELfaRsHg7GWeFJn17KRERPrr2ymDYa82CLuuVV7py443zuPjiJcyaVY/i4oP/R6kKPvVw9bPnkRBbwFPXT6ZpvQwuO20Bd71xxsFuWsBc+vV/2JYbT0psHkP7fcvq7cnM22RSlZ/RfCXjQ2TdlhIuSSRD2cqTgK9KFaKqZgLdgU+d/cOBnn7U85uqblBVH/A70LiC40qArx1Z6tR/qROtvTvwfXlfUtUhqtpJVTtFSrQfzdmDN0J5+N3VTP0mhV8nVD+g7/pL/LIsdtWPpyTRsWqrReLdYSwy745CSqq507m0L52Oz+CvZQlkZQTfL7dhQyIPPtib227ry/TpDdm8OTi+zlKyMqKonloAQPXUArIy3T3HnPxofl9Rl55t11E3NZsPHvyaL578jJrJuQy9fxQpiQel2yEgtuWat7fM/Dh+WN2EY2obN4xXfPRptoYJK0OncE08XPFrOdiEUuEK+wldVmZ/MU7bHOu07D+goMx6CRVb6bv2mdf8IXApcBHwZZmAwi6h3PHCWtJWxTBqaPBeu6vNyyDn2D2vo7ltqpP42zYAEn/bRk6b4Cj6E0/fyvQQuBMAkpJ2ASCiDBiwlPHjg/vnnf1TLfqcZVwYfc7ayKzptQKuMykhn4RYc6tGRRbTseVGVq6vQb/7LuPChy/iwocvYltWPNc825/MnQf+JnUwiY0oIi6ycPf6cQ3WsyojBYDuDTawZnsyf+cG9yG5N65mfAgqoRylMAX4RkReUdUMx6UwA5OiYjhwCfCLc+xaoCMwEhNV3R+zLRuoBqSXt1NVN4nIJuAh4JQAzqNcWnfOpc95maxZFsvg741Pa9jz9ZgzNck1GVJYQtzyHWy9sMnussw+R1D3w5UkztpGcfUoNl91lGvySomOKaFD90zeeCKwnvvyuO++GbRtu5XExAKGDx/D8OFtiI0t5qyzVgEwY0Z9Jk1qsp9a/OfepxdyTKdMEpOL+Gj8ND5590i+HNaEQc8t5JR+G9m2JYZn72sXsJwaSXk8cPl0vB5FRJk6rykzF7s3eqQyBg1eS9vuOSSlFDNi7hKGv1iHiZ+75zOuEZfP62dMAIxF+92K5vyS1hCA05uvYvyK5q7J8ofSTrNwQPaEdgyBMBNT8h6MZboAeAz4AEgFtgFXqWqaiNQGxmCs3CnAraqaICK9gLtV9SynvjeBuao6TERuBW4GNqtqbxHJUdWEfeQPAAaqajd/2pvoSdFuEfvNC+cKK14KTWYJOLwzPnhCmPEhu2vDkMmKHTMnZLIANtzfPSRy1r7/Mvmb1wf0rl+ndYpe/unJfh37Qvuv5lU1ALkbhHQcrqp+hOkoK8tJ5Rz3N1BWKd7vlE8DppU57pYy628Ab5TZLu+dpifw3oG33GKxHMq4FZ4x2Bw2Ex/2h4jMA3KBuw52WywWi3uY8IwHv0PMH/41CldVO+7/KIvFEo7Y4DUWi8USAky0MOtSsFgslqBjRilYhWuxWCwhwFq4FovFEjIOhVlk/mAVrsViCWvsKIXDBQUtqTTrsWtEbw/dK9Hq24ITlLoiGj02M2Sycvt1Dpms2NG/hUyWt3bg040PhBpLXZ75XgHrd7kz8cq6FCwWiyUEhFNOs/B4LFgsFksFKFCsHr+W/SEiH4jIVhFZXKYsRUQmi8hK57N6mX33i8gqEVkuIvuNA2AVrsViCXtcDEA+DDhtn7JBwBRVbY6J7TIIQERaYYJvtXa+89b+sstYhWuxWMIbNS4Ff5b9VqX6E5C5T3E/9sSA+Yg9SRL6AZ+raoGqrgFWAV0qq9/6cC0WS1hTGoDcT1JFZG6Z7SGqOmQ/36mtqpsBVHWziJT2YNYDZpU5boNTViFW4VoslrDnADrN0l0Mz1ie0EqHXViFa7FYwhoFin1B9Y7+LSJ1Heu2LlCa1nkDUDa5YH1MrsUKsT5ci8US1pQOC3PDh1sBY4ErnPUrMMkRSssHiEi0iDQBmgOVDs62Fq7FYgl73JraKyKfAb0wvt4NwKPAc8BIEbkaSAPOB1DVJSIyEliKycN48z55FP+BVbgucedLaXTts5Os9AiuPzk4M7mqRRXw5AnTaJ6SiSo8NL03a3Yk8/LJk6lXLZuN2dW444dT2Vl4YNmGK5L11PF7ZD34U29qx+dyS8c5NEvezgWjz2Nxuvuzn4J5HaMiinnjzm+JjCjB6/ExbUFTPvxuT5jkAX3+4Kb+szn7nsvYkRvjqmyATr12csOTm/B6lO8/S2Hkm8FLPdTvojT69t+ACEwYVY8xn7qXT+1gX8d/oO7Fw1XViyrYVW4OH1V9Gnja3/oPK4UrIlcCncqm3gkVk0amMPbDVO55LS1oMh447hd+Wd+AgT/0JdJTQkxEMdd3mM/MjfUYuvBYrmk3n2vbz+el3wLPR/Vg91/4eUMDbp+yR9bOwmhum9yXx3v+5MLZlE8wr2NhsZeBr51JfkEkXo+PwXeNZfaS+ixdW5ta1XPo1HIDWzKCk23W41FufmYj9w9oSvrmSN4Yv5JZE5NIW+m+QmrULIe+/Tdwx2VdKSoSnhy8gDm/pLIpLd6V+g/mdSwPJXwCkFsfrkssnp1AdlbwMofGRxbSqc5mvlp+NABFPi/ZhdGc1GgNY1aYbLpjVrTg5MZr3JFV95+yVmdVZ82O4KRhLyW411HILzAJoCO8PiK8PtR5Fb3lvFm8/U3XyruYA6BFhzw2rY1iS1o0xUUepo1JpnvfHUGR1aBJLssXJVGwy4uvxMPiedU5rvc2FyUcvOtYEUH24bpGWFm4InIpcBsQBcwGbgIuxySZ3AysAAqcY4cB+UBLoBFwFcbh3R2YrapXhrb1gdEgcSeZu2J55sSptKiRwdL0VJ6Z0ZMasflsyzeWy7b8eFJi8wOXVW0nmfmxPHviVFqkZLAkPZVnZvYkv9ifbPWHNh7x8d6gb6hXcyejf2rFsrW16HHMOtJ3xPHXRvdSie9LjTpFbNsUtXs7fXMkLY/NC4qsdX/Fc8Utq6iWVEhhgZdOPdNZuTTRVRkH6zqWhyKUBHeUgmuERysBETkauBDooartManWLwUeB3oApwCt9vladUxW4DuAccArmGl4x4hI+wrkXCcic0VkbpHR3YcEXvHRKnUbny9tzXmjzievKJJr2y8IiqwIj5H12dLW9P/mfPKLI7m2XXBkhRqferj62fP474MX07LxNprWy+Cy0xbw/rjgZs6WcowrDZIZuH5NAl8Oa8zTb8/nycHzWbMigZJid627g3UdK2wP4tdysAkbhYtxWncE5ojI7872HcA0Vd2mqoXAF/t8Z5yqKrAI+FtVF6mqD1gCNC5PiKoOUdVOqtopksA7n9zi79wE/s5N4I9tpqNl0pqmtErdRkZ+LDVjcwGoGZtLZn5swLK27CNroiPrcCInP5rfV9SlZ9t11E3N5oMHv+aLJz+jZnIuQ+8fRUqiu9Zn+uZIah5RuHs7tW4RGVuC98YwaXQ9bru4G/de3ZnsHZFsSosLipxQX8fyUA0fl0I4KVwBPlLV9s7SAniMymd2lJqovjLrpdth5U5Jz49jc048jZO2A9Ct3kZWba/Oj+sa0++o5QD0O2o5P65r4o6s3HiaOLK6H7GRv7YH13cbCpIS8kmINbdBVGQxHVtuZOX6GvS77zIufPgiLnz4IrZlxXPNs/3J3Omuglr+exz1mhRSu0EBEZE+evXLYtakJFdllCWpulHuNevkc9xJW5k+oY57dR/E61gRquLXcrAJJ6UzBRgjIq+o6lYRSQEWAK+JSA1gJ2Z83MKD0bhBg9fStnsOSSnFjJi7hOEv1mHi5+76sp6ecTwvnDSFSE8J67MTeXDaSXhEebnPJP7b8k825SRwxw+nuiLrqV+P54Xee2Q9MP0k+jRezUPdfyElNp93+o7nz8xUrvn+LFfklRLM61gjKY8HLp+O16OIKFPnNWXmYveGS1WGr0QY/GA9nvl0NR4vTPo8hXUrgjdk6sEXF5KYXERxsfDWcy3JyXbPmj6Y17F8Dg3r1R9Eg+VICgIiciGmg8wDFAE3A0ezp9Psd8Crqrc4nWbfqupXItLYWW/j1LN7X2XyEiVFu3r6BOdk9iHt0cCHcvlLqO/NUGZ8yLcZH1whp3vjkMj5fepr5GzfENAdmXBUXW3zxpV+HTv7tOfmuRhL4YAJJwsXVf2Cf/ppZwEflnPslWXW1wJtyttnsVjCG1Uo8YWHhRtWCtdisVjK41AYgeAPVuFaLJawRuGQ6BDzB6twLRZLmBM+nWZW4VoslrAnXPr+rcK1WCxhjSr4wmRqr1W4Fosl7LEuBYvFYgkR1qVgsVgsIcKOUjgcEEGiovZ/nAvUmlccEjkAcWnZIZMFsOqTdiGT1fym5SGTpe2ODpks35KVIZMF4IsIPCaHX5QXRu0AUQ6NOAn+YBWuxWIJe8LEo2AVrsViCXMU1E7ttVgsltBgXQoWi8USIsJ+lIKIvEElrhFVvS0oLbJYLJYD4HCJpTA3ZK2wWCyWqqK4FuRZRO4ArnFqXYRJPhuHCQvbGFgLXKCq26tSf4UKV1U/2qch8aqaWxUhFovFEkzccCmISD1MVvBWqpovIiOBAZjktFNU9TkRGQQMAu6rioz9TkAWke4ishRY5my3E5G3qiLMYrFY3EdQn3+LH0QAsSISgbFsNwH9gFID9CPg3Kq21J9Os1eBvsBYAFVdKCInVFXg4UpklI8XRy4jMsqH1ws/f1+dEa/Wd63+qIhiXr/7WyIjSvB6fUyf35QPx3Xk/86ZS8926/ApZGXH8uywE8nYER+QrDvumE2XLpvIyorhxhtPB6BJk+3ceutcYmKK2bo1nuef705enjt5spLGb6Xa1EwQKGwQw7brG1L9y83Ezd+JRgjFtaPZdn0DfPHu9vHGVyvm9idW0Kh5Lqrw6kMt+HNhomv1h/o6lpJat5B7XllD9ZrFqML4T1MZ80Ft1+qPiijmzdvHERVRgtejTP29CR98b7LWnHfCYs47fgklPg8zljTg7bHdXJNbKf5buKkiUtZdOkRVhwCo6kYReRFIA/KBSao6SURqq+pm55jNIlLlfEd+3cGqul72nhFSUlWBhwIikqOqCW7WWVQo3HdxS3blefFG+Hjpy2XMnZbMn7+7I6aw2Msdr5xJfkEkXo+PN+8dy+zF9fl8Uls+GOvc7L0Xc8WZ83n50+MDkjV5chPGjm3O3XfP3l02cOAchg5tz6JFtTj11NWcd94yhg9vG5AcAG9mIYkT09nwQks0ykOt19YSP3M7+cdUI3PAEeAVUj7bRPLYrWRedETA8spy/f2rmPdLdZ65oxURkT6iY3yu1h/K61gWX4nw3lMNWLU4jtj4Et74bhkLfk4kbWWsK/UXFnu5/Y2zyC809+LbA8cwe1kDoiJLOP6YdVzxv/9SVOwlOSHfFXn7RQ+o0yy9opxmIlIdY802AbKAL0XkUlfa6OBPTLP1InIcoCISJSJ347gXLGURduV5AYiIUCIi1OXZL0J+gbGEIrw+Irw+VIW8XXumHsdEF4MLqUYWL65FdvbeU5rr19/JokU1AZg/vzY9e24IWE4pUqJIoQ+cz5LqkeS3TQSvOZddR8bhzShyTR5AbHwxbTrtYOLXJn14cZGH3Gx3LehQX8dSMrdGsmqxSU+en+tl/aoYatRx8/oJ+YV77kWvcy/+p+dSRkxuR1Gx+R9k5bij4P1C/Vwqpw+wRlW3qWoRMAo4DvhbROoCOJ9bq9pMf+6wG4DXgHrARmAiJluuK4jIw8AlwHogHZgH/AC8g/Gh/AX8n6puF5HbnPYUA0tVdYCIPAY0c9rXAHheVd9z6r4HuACIBr5R1Ufdand5eDzKG+OWcESjXYwbXpvlLlm3u+sXH0Me/IZ6NXcyenorlq01bzbX9JtD324rycmPYuDLZ7oqs5S1a5Po1m0js2bV5/jj15OamudKvSUpUWSdWYuGty5Fo4S8YxKNsi1DtWmZ5HZPdkVeKXUb7GJHZhR3PL2Cpi1zWLWkGu8824yCfK+rcvYlWNexImrXL6BZ6zyWLwjMzbQvHvHx/j3fUK/mDr75uTVL19WiQc0dtG22hevOmkNBcQSDR3flz7RQZRt2ZZRCGtBNROIwLoWTMaO1coErgOeczzFVFbBfC1dV01X1ElWtrao1VfVSVc2oqsCyiEgn4DygA9AfKDX1PwbuU9W2mKEZpYpyENDBKb+hTFVtgTOB7sAjInKEiJwKNAe6AO2Bjv74nkXkOhGZKyJzi3TXAZ2PzyfcfGYbLu3enhbtcmh0lLt/Jp96uOap8zh/0MUc3XgbTY7IBGDomM6cf//F/PDbkfTvvdRVmaW88kpXzj57Ja+/PpHY2GKKi90J+OzJKSZ+3g7SXmvFusFt8BSUkPBL5u79yaO3gFfI6VHdFXmleL3Kka2yGf9FXW49ryO78j1ccM16V2WUR7CuY3nExJXw0LureffxBuTluPsg8amHq54/j/6PXMLRjbbSpG4mXo+PanEFXPfyubw1uitPXDWFkEU58Pm5VIKqzga+AuZj9I4HGIJRtKeIyErgFGe7SvgzSqGpiIwTkW0islVExohI06oK3IeewBhVzVfVbGAcEA8kq+p055iPgFJF+QfwieNXKRteq7SOdGAqRsme6iwLMBewJUYBV4qqDlHVTqraKVJiqnRSudkR/DErkU4n7qjS9/dHTn40C1bUpUvrvV9Hf/itGSd0WBMUmRs2JPLgg7257ba+TJ/ekM2b3bHeYxfnUFQrCl9iBEQIuZ2TiV5hRh8m/JRJ3PydbL25kStRpcqS/nc06X9Hs/wPY03/MqkmzVrluCqjPIJ1HffFG6E8/O5qpn6Twq8T3H1YlSUnP5oFK4+g29Hr2bYjnp8WNgGEZWm1UIXkhAMzWqpE6Thcf5b9VaX6qKq2VNU2qnqZqhaoaoaqnqyqzZ3PzP1WVAH+PF4/BUYCdYEjgC+Bz6oqcB8O9F90JjAY6AjMc4ZuwD8fo+rU/ayqtneWI1X1/cCaWzFJKUXEVzPPgKhoHx167mD9X1VT2OXWn5BPQmyBqT+ymE4tN5K2JYl6tfYo9R7t1pG2Jdk1mXvJTzJ/HBFlwICljB9/pCv1FqdGErMyDynwgSqxS7IpqhdD7MKdJI/7my13N0Wj3bcCt6dHsW1LNPUam7eQ9t22k/ZXnOty9iVY13FvlDteWEvaqhhGDXVvdEIpyfveiy02su7vZH76ozHHHrUJgAY1s4jw+sjKce8/UBmq/i0HG398uKKqw8tsjxCRW1yS/wvwrog867TlTOA9YLuIHK+qPwOXAdNFxAM0UNWpIvILcDFQah70c+qIB3phXA/5wJMi8omq5jiDmotUtcoO78pIqVXEXS+uxutVROCn71L47Uf3LIsaSXk8cOV0PB5FRJk2rykzFzXiiesn06D2DlSFvzMTeOmTngHLuu++GbRtu5XExAKGDx/D8OFtiI0t5qyzVgEwY0Z9Jk1yJ15qwZHx5HZNot4Dy8ErFDSOZedJNWhw759IkVL32VW7j0u/uoErMkt55+kjuff5P4mIVLZsiOGVB49ytf5QXseytO6cS5/zMlmzLJbB3xsX07Dn6zFnapIr9ddIzOPBS6fhEcUjyo+/N2XGkkZEeEu4/+LpfDzoS4pKPDw9ohcu+Vb3zyGgTP1BtAK1LyIpzuq9mCESn2NO60IgWlWfdKUBptPrImAdsA2YBsxhT6fZasz0uhyMuyAJ8yuOcGZ+PIaxvJsBDdm70+x2zDQ9nO9fqqp/+TssLNFTQ7tFn+7Gae6X/FNDF6Q75AHI74sOmazmNwXHpVIe2sjdYWqVygpxAPKcczuGRM4fP7xGTub6gLRydOP6Wueh2/06Nu3ae+dVNCwsFFRm4c5jz6s5wPVl9ingisIFXlTVx5yewZ+Al1T1d6C8EdMVmW8rVPW6fQtV9TXMCIt9y4PjOLNYLAcFCRMLt7JYCiHKscEQEWkFxAAfqer8EMm1WCyHAypwOAUgF5E2mAAOuz3gqvqxGw1Q1YsD/P5jbrTDYrGEMeFu4ZYiIo9iOqJaAeOB0zGdXa4oXIvFYgmYMFG4/oy3+S9mxsUWVb0KaIeZuWWxWCyHBu5M7Q06/rgU8lXVJyLFIpKImUfs1sQHi8ViCQwXA5AHG38U7lwRScaMj52HGV71WzAbZbFYLAeCuBvoLWjsV+Gq6k3O6jsiMgFIVNU/gtssi8ViOfyoLInksZXts8O3LBbLoULYj8MFXqpknwInudyWQw9VtLAwJKJ8kaHzQUl+aM6plGaXh26W1JGzQncdV56wLmSyik4M3UxEgMSfQzNjz5td4E5F4e7DVdXeoWyIxWKxVIlDZASCP7gb4t5isVgOBlbhWiwWS2g4bEYpWCwWyyFPmFi4/mR8EBG5VEQecbYbikiX4DfNYrFY9o+o/8vBxp+pvW9hcoVd5GxnY7IuWCwWy6GBSyl2go0/LoWuqnqsiCwAcLLnRu3vSxaLxRIyDgHr1R/8UbhFIuLFOSURqcl+819aLBZL6DgU3AX+4I/CfR34BqglIk9jooc9FNRWWSwWi7/oYTRKQVU/EZF5mBCNApyrqsuC3rIw486X0ujaZydZ6RFcf3JL1+uPiijmjYHjiIoowetVpi1owgfjO3HVGXM5+7g/ycqJBWDI2M7MWtowIFkD751Hl+5byMqK5qar+gBwyZVL6XvmWnbsMJE5P3qvNXNn1wnspPYhtW4h97yyhuo1i1GF8Z+mMuaDwLLObn68mNxfFG91aDIyEoCSHcqm+0so2qxE1hWOeM6LN9H493atVP5+pgRfroJAo48j8ES74/vzeJTXR/9B+pYoHrvuaFfqLKVmSg6Drv+J6kn5qArfTW3BqEmtadYwg4FXzSAqsoSSEuG1j45j+eqarsrud1EafftvQAQmjKrHmE8buVq/X7hk4TqBuoYCbZxa/w9YDnwBNAbWAheo6vaq1O9PAPKGQB4wrmyZqqYdqDARaQx8q6pt9il/AvhJVX84gLr8SgQZKiaNTGHsh6nc89oBXxa/KCz2MvD1s8gvjMTr8fHWnWOYtdRksR059Rg+n+Le1M8fJjRi3DdNueuBeXuVj/7qSEZ94W5m27L4SoT3nmrAqsVxxMaX8MZ3y1jwcyJpK2OrXGfS2R6qXyhsfqR4d1nGMB9xXYQaV0aQMayEzGE+at7mRYuVzQ8XU/eJCGKOEkqyFHFx4GS/KzeTtiqWuIQS9yp1KCnx8M6nXVi5LpXYmCLeeWIM8xYfwXUD5jD8m/b89kcDurRbz3UD5nDXM2e4JrdRsxz69t/AHZd1pahIeHLwAub8ksqmtHjXZPiFey6F14AJqvpfp68qDngAmOIkrR2EyQp+X1Uq92eUwnfAt87nFEwW3e+rIqwiVPWRA1G2hyKLZyeQneUNogQhv9BYaBFeHxFeX9B6XRf/kUp2duj7RTO3RrJqcRwA+ble1q+KoUadooDqjDvWgzdx77Kc6T6SzjK3ftJZHrKnmffR3FlKdHMh5ihzXb3JgnjducapdQro0ms7E0cGZrFXROaOOFauSwUgf1ck6zYlk5qSh6oQF2uuYXxsIRnb41yV26BJLssXJVGwy4uvxMPiedU5rvc2V2X4gxvDwpx43ycA7wOoaqGqZgH9gI+cwz4Czq1qO/ercFX1GFVt63w2B7pgUuxUFa+IvCciS0RkkojEisgwEfkvgIisFZH/ichvznJkRRWJyNMislBEZolIbaeskYhMEZE/nM+GTvkwEXlHRH4WkRUiclYA53BQ8IiPDwZ9zdjnPmbOn/VZuq4WAP1PWMKw+79i0CXTSIh1KRhIOZz9n9UMfv8HBt47j4SE4AbAqV2/gGat81i+wH1LqSQTIlKNIo1IFUqcl8PCNEWA9bcUs/aSIjI+cs8Svf6htbz/v0b4QtC5Uzs1myMbZbBsVU3e+qQr1w2Yw2evfsENF81h6Eh3M4Sv+yueNsdmUS2pkOiYEjr1TCe1zi5XZYSQpsA24EMRWSAiQ0UkHqitqpsBnM9aVRXgj4W7F05Yxs5VFQg0BwaramsgCzivnGN2qmoX4E3g1QrqiQdmqWo7THr1a53yN4GPVbUt8Amm06+UxsCJwJmY+L4x7IOIXCcic0VkbhHBU15Vwace/u+58zjvoUs4utFWmtTNZPTPrRjw2ACueu48MnbGcUv/mUGR/d2Yplx9cV9uueZkMjNiuOamRUGRAxATV8JD767m3ccbkJcTzLeGfSiB/IVK3ae8NHw/gpxpSu5vgffGdOm9nayMSFYtCb4HLCa6iMdu+5G3PulK3q4ozj75T97+pCsXDbyQtz7pwt3X/OyqvPVrEvhyWGOefns+Tw6ez5oVCZQUh3i8q9Np5s8CpJb+v53lujI1RQDHAm+ragcgF+M+cA1/ZprdWWa5W0Q+xTwFqsoaVf3dWZ+HUYL78lmZz+4V1FOIcXXsW0934FNnfTjQs8x3RqqqT1VXYlwj/+jdUtUhqtpJVTtFHqKp23Lyo1mw8gi6tlrP9uw4fOpBVRj369Ec3Sg4r3NZ22Pw+QRVYcJ3jTnq6Cr1GewXb4Ty8LurmfpNCr9OqB4cGSlQnG5MzeJ006EGEFFLiD1WiEgWPDFCfA+h4M/ATdJWHXfS7eTtDJs2n0GvrqRd953c85L7ISu9Xh+P3fYjU2Y045e5jQE4tedKfp5rOrGm/9aEls3SXZc7aXQ9bru4G/de3ZnsHZFsSnPXbeEX/uc0Sy/9fzvLkDK1bAA2qOpsZ/srjAL+W0TqAjifW6vaTH8s3GpllmiML7dfVQXCXmZjCeV33JW9y1VEvCLyu7M84ZQXqWrpcRXV84+6Ktl3SJOckL/bXRAVWUynFhtJ+zuZGol5u485od0a1mwOjpKqnpK/e/24nptYtyaxkqOrinLHC2tJWxXDqKHB8XUCJJzoYce3xtzZ8a2PhBPN3yC+u1CwUvHtUrRYyZ+vRDUN3Fob9mIjLuvZkSt7HctzA5uzcGYiL9zVPOB690a5+5qfSduUxFcT9vRJZ2yPo13LLQB0aLWZjVvc/92Sqhv3Us06+Rx30lamT3B39IpfuJBEUlW3AOtFpIVTdDKwFBgLXOGUXQGMqWozK+2DdSY8JKjqPVUVUEUuBJ5zPmeqagnQ3s/vzgAGYKzbS9jb33y+iHwENMH4a5a71eBBg9fStnsOSSnFjJi7hOEv1mHi5zXcqp4aiXk8cNk0vB5FRJk6vykzFjfioct/5Mj6GaDC5swEXvzshIBl3fvwb7Rtv43EpEI+/nI8Iz5sRdv222h65A5U4e8tcbzxUgcXzmpvWnfOpc95maxZFsvg75cCMOz5esyZmlTlOjc9UEzePKUkC/46o4ga13mpcYWHTfeXsGNMEZF1zLAwAG+iUP0SL+suNyMa4nt4SOh5wF63g0Kbo/7m1J5/sTqtOu8+NRqA97/syMsf9ODmS2fj9fooLPLy8gc9XJf94IsLSUwuorhYeOu5luRkR7ouozIEVyc+3Ap84oxQWA1chTFMR4rI1UAacH5VK5c9RuI+O0QiVLVYRKao6slVFbBPnY0pMyxMRO4GEjDugG9V9SsRWQt8CJyBOdGLVHVVOXXtHhbmdLidpapXOjI+AFIxro+rVDVNRIYB24FOQG3gTlX9dt96y5IoKdrV0yfQ0/aLvP+ELh5QtcXuv1ZWhm916DIjHBXSjA+hUyyF3d0dt7s/ohevD4mcmelfsqNoa0A/WuwRDbTx1Xf6deyfT905T1Xd7Tk8ACqzcH/D+C9+F5GxwJcYJzIAqjrqQIWp6lrMgOLS7RcrOHSwqj6+n7oSyqx/hfG3lMqoKP3Pr6p6xwE02WKxHOocIpHA/MGfYd0pQAZGiSnGglfggBWuxWKxBIXDYGpvLRG5E1jMHkVbStCeJ6raOEj1XhmMei0Wy8HncLBwvRj/ann+lTA5PYvF8q8gTDRSZQp3s6o+Ucl+i8ViOfgcJll7D354dIvFYvGDw8Gl4MpQMIvFYgk64a5wVTUzlA2xWCyWqnLYBCD/NyPRUXgbNg6JrIQVO0IiB6BkxV8hkwVQcHogsY4OjJUnLAmZrAvn/2M+TtAY2eMfcZaCS0QYqYbDxIdrsVgshzxC+HQ4WYVrsVjCH2vhWiwWS2g4HEYpWCwWS3hgO80sFoslBBxmwWssFovl0MYqXIvFYgkN1sK1WCyWUGEVrsVisYQGa+H+Cxh433y6HLeFrO3R3HTl3qEn+g9YyTU3LWHA2aezc0fg2X/vuPM3unTbRFZWNDdedzoATZtu59bb5xIZ5aOkRBj8RkdWLHcvj1opnXrt5IYnN+H1KN9/lsLIN91L8BgVUcxr931HZGQJXo+P6fOaMGxMR07stJorz5lPo7pZ3PhUP5avq+mazLJ4PMrro/8gfUsUj10XeBqbWQ8ks2laNDE1fJwxzmRQTpsQw6I3q7HzrwhOHZlOjWOKAFg7LpZl7+9JnZ61PILTRm2j+tHFAbWhXuM8Br2wZ8Zd3fr5DB/chDEjGgRUb0X0uyiNvv03IAITRtVjzKeNgiKnQpSwGaUQHhnyykFEZhzsNvwwoSEP33PcP8pTa+XRodM2tm6JdU3W5MmNeeiBvRNEXn3tQj4Z0YZbbuzLiI/acPU1C12TV4rHo9z8zEYeuqQJ1/ZqQe9+WTRsvsu1+guLvdz54hlc81h/rnm8P13abKBV062s2VidRwb34Y8Vwc0A2+/KzaStcu93avqfPHq9t3cYkqTmxRz/eia1OhXuVd747HxOH72N00dvo/v/thNfryRgZQuwcW0ct57fmVvP78ztF3Zi1y4vM6cE54HVqFkOfftv4I7LunLzhd3ockI6RzTM3f8XXaQ0iaQ/y8EmbBWuqv5T04WYxQtTyd75z0SC192ymA/ebk0F+TmrJmtRLbKz97aUVYW4OGMtxcUXkZHhnuIopUWHPDatjWJLWjTFRR6mjUmme1834z4I+QXmGkZ4fUR4fahC2ubqrP872UU5/yS1TgFdem1n4kj3LPZanQuJStrb3EpqVkxi05JKv7fuu1ganZlf6TFVoV3X7WxZH8PWzcGJxdCgSS7LFyVRsMuLr8TD4nnVOa73tqDIqhQX0qSHgrBVuCKSIyIJIjJFROaLyCIR6efsu0FEfneWNSIyVUTOKVO2XETWBKNdXXtsJiM9hjV/VT21t7+8+3YHrr52IR9/MpZrrlvIsA/aui6jRp0itm2K2r2dvjmS1LpFrsrwiI+hj45i9CsjmLu0HsvW1HK1/oq4/qG1vP+/RvgOgT9i2vfBUbgnnv43075374GyL+v+iqfNsVlUSyokOqaETj3TSa3j3huQv4iqX8vBJmwVrsMu4D+qeizQG3hJRERV31HV9kBnYAPwsqqOVdX2TvlCoNyMwSJynYjMFZG5hSUH9geIji5mwGUrGP5+aFJan3n2Koa8057LLzmHIe+0Z+Cdc1yXIeVEBXH7vvWph2se78/5d1/E0U220aRe8CODdum9nayMSFYtSdj/wUEmfWEk3hgl+ajA3QlliYjw0bVXBr9MCt4DbP2aBL4c1pin357Pk4Pns2ZFAiXFIQ4l4691e/D1bdgrXAGeEZE/gB+AekDZx/lrwI+qOm73F0TuBfJVdXB5FarqEFXtpKqdorwH9opet14utevmMviDH/nwi4mk1tzF60OnUT0lOE/8Pqes5ddf6gPw808NaNEiw3UZ6ZsjqXnEHt9jat0iMrb8043iBjn50fy+vC5d2mwISv1ladVxJ91O3s6wafMZ9OpK2nXfyT0vrQy63PJIGx8c67bT8Rn8tSyBrIyo/R8cAJNG1+O2i7tx79Wdyd4Ryaa0uKDKKw83fbgi4hWRBSLyrbOdIiKTRWSl81m9qu0Md4V7CVAT6OhYrn8DMQAiciXQCHi89GARORk4H7ghGI1ZuzqJi/udwVUX9uWqC/uSvi2G267pxfbM4PjPMjJiOKat8Ze1b7+VjZuquS5j+e9x1GtSSO0GBURE+ujVL4tZk9xzlyQl5JMQWwBAVGQxHY/eSNrmZNfqr4hhLzbisp4dubLXsTw3sDkLZybywl3Ngy53X9QHaROC5U7YyvQguhNKSapuHsg16+Rz3ElbmT4huB2d5SE+/xY/uR1YVmZ7EDBFVZsDU5ztKhHuw8KSgK2qWiQivTEKFhHpCNwNHK+qPqesEfAWcJqqunJ33/vIHNp2SCcxqZCPv5rAiA9bMum7xm5U/Q/uu38mbdtuJTGpgOGfjGX48Da8/kpnrr9pAV6Pj8IiL6+/2sl1ub4SYfCD9Xjm09V4vDDp8xTWrXDvAVIjOY/7r/4Jj/jweGDqnCbM/KMhPTus5faLZ5BUbRfP3j6RVetrcO8rp7smN1j8emcyW+dEU7Ddw+gTa3PMrdlEJfmY91QSBZkept+QQvWWRfR+37hNts6JIq5OCQkNKu9UO1CiY0ro0D2TN55o4Wq95fHgiwtJTC6iuFh467mW5GQH5w2oUlxyF4hIfeBM4GngTqe4H9DLWf8ImAbcV6X69RBwJFcFEckGmgDjgEjgd6AHcDrwKNAX2OocPhdYD9yK8ekCbFLVMyqTkRRTR7s3vNz1tpeHxgQ+VtdffIv/DJksCG3Gh9jph2vGhzYhkwWELOPDzPQv2VG0NSCnb3yNBtrmzDv8Ova34XetA9LLFA1R1SGlGyLyFfAsUA24W1XPEpEsVU0uc8x2Va2SWyEsLVwRqQFkqmo60L2cQ66q4KuPV1BusVjCGf/txnRVLfdVUETOwrwxzxORXu40bG/CTuGKyBEYk77cUQYWi+XfRenEBxfoAZwjImdg+oISRWQE8LeI1FXVzSJSlz1vzgdM2HWaqeomVT1KVd842G2xWCyHBuJTv5bKUNX7VbW+qjYGBmBGOF0KjAWucA67AhhT1XaGnYVrsVgsexH8MbbPASNF5GogDTPSqUpYhWuxWMKeAxjy5ReqOg3jukRVM4CTKzveX6zCtVgs4U+YDLayCtdisYQ9h0IkMH+wCtdisYQ3ivsBPoKEVbiVoAWFlKwKSlCxf7D26fKGEweHZq+4H6S8MuLWuRnOsXKyznE/YlpFfDSwdchkRbYo3P9BLuLJdzeQTkXoTndUkNs+3GBhFa7FYglrXByHG3SswrVYLOGNqnUpWCwWS6iwFq7FYrGECqtwLRaLJTRYC9disVhCgQIl4aFxrcK1WCxhj7VwLRaLJVTYUQoWi8USGqyF+y+kU6+d3PDkJrwe5fvPUhj5prsJ/KpFFfBUj+kclZyJAg/80osT66dxcsO1+FTI2BXL/T/3Zmt+vKtyz700jb79N6PA2pXxvPLw0RQVel2pe+Ddc+jSdTNZWdHcdG1fAAY9NJN69bMBSEgoIicnkltvODVgWVERxbx1y1giI0rwepSpC5vw/sTOND8inXvO/5moiBJKfMKLXx/PsrTAUotHRhTz2qDviIoswevxMX1uE4aN6Ui1+F08csOP1EnNYUt6Ao+/fTI5eYGnV6pZI5d7bv2FlORd+BTGTz6K0eOP3r3/v+cs4brL5/Hfqy5gZ3ZgOelSU3O5566ZVK++C/UJ4yc0Y8zYliQkFPDAoF+pXSuHv7cm8MxzPcnJCW7GYOCQSYHuD1bhuoTHo9z8zEbuH9CU9M2RvDF+JbMmJpG20r2Eiw92/ZWfNzTg9qmnEukpISaimJVZKby2oAsAlx29iJvbz+PRmSe4JrNGrQLOuWQDN5zblcICL/e/sJgTT9vKD2PrulL/DxMbM270kdx132+7y557as8052uuX0hurjtJCQuLvdz61tnkF0bi9ZTwzq1jmfVnQ649bS4fTOzIrD8b0v3oNG4+axa3vHVOQLKKir3c+cIZ7CqIxOv18cb945i9qAEndFzD/GX1+Gx8Oy46YyEXn7GQIV91CfjcSkqEIR91YtWaGsTGFDH4+W+Z/0dd0jYkU7NGLse23cTf29x5EPtKPLw39FhW/ZVCbGwRb7w2gQUL6nJKn9X8vrA2I788iQvOX8IF5y/hgw87uCKzMgSQMOk0C7uMD4cqLTrksWltFFvSoiku8jBtTDLd+7oXQyA+spDOtTfz1cqWABT5vGQXRpNbtMeCiI0oCsqD3utVoqJ9eLw+omNKyNjmntWyeFFNsrMrqk85/sT1TJ/awCVpQn6hUd4RXh8RXt/uSUrxMSZWQUJMIek73VBMwq6CPbK8XjPZ/7gOaUz81aRjn/hrc3ocu84FWZCZFceqNSZGRv6uSNI2JpGakgfADVfOYejwjq65OTO3x7LqrxQjKz+S9esTqVEjj+7dNvDDD00B+OGHphzXbUNl1biKqPq1HGzC1sIVkcbABGA20AFYAVyOSSr5Iubc5gA3qmqBiKwFvgB6O1VcrKqupV2tUaeIbZv2KI70zZG0PDbPreppUG0nmbtieLbnVFqmZLAkoyZPz+5BfnEkA4+dzblHriC7MIrLvw/MMtuXjK3RjPqoIR9NmkHhLg/zZ6awYGZogt+0OSadrO0xbNpYzbU6PeLjgztHUT91B6N+bc3StNq8Ovo4Xrl+PLecPQuPR7n+9XNdk/Xuo6OpV2sno39sxbLVtUhJzCdzRxwAmTviqF4t3xVZZaldM4cjG2fy58pUunVaT3pmHKvXpbguB6B2rRyaNd3O8uWpJCfvInN7LGCUclLyrqDI/Adh5FIIdwu3BSbNcVtgJyaP/DDgQlU9BqN0byxz/E5V7QK8CbxaXoUicp2IzBWRuUUU+N0QKSfRs5sP1Ajx0apGOp/92Zr/jD2f/OIIrjtmAQCvzu9Kr5GXMe6v5lx69GL3hAIJ1Yro1nsbV53enUv79CAmtoTeZ25xVUZFnHhSGtNcs24NPvVw5Uv/5dzHL+XohttoWieT/j2W8vqY7vznyUt5bfRx3H/hdNdkXftYf86/6yJaNtlG43qZrtRbGTExRTxy9zTeHtaZkhIPF5+3iI++aB80WQ89+DPvvteRvHx33D5VQ/fEU9jfcpAJd4W7XlV/ddZHYNJgrFHVFU7ZR0BZh+ZnZT7LjYeoqkNUtZOqdorE/86M9M2R1DxiTwi91LpFZGxx7ybckpfAltx4/kg3HXET1jajVY30vY75dnVzTm282jWZAO27bWfLhlh2bo+ipNjDr1NqcnT74Idb9Hh8HNdzIz9Nc1fhlpKzK5oFq+rSteV6Tu+0gml/NAHgx4VNadWwyklZyyU3P5rfl9elS5sNZO6MJSXJvPmkJOWxPTvWNTler49H7p7Gjz835dfZjahbJ5s6tXJ458VxfPzW19Sskcdbz39L9eTArWqv18fDD/zM1KmN+XWG+Y2ysmJIqW7qTqmez44s9/ov9oeof8vBJtwV7oFeQq1gPWCW/x5HvSaF1G5QQESkj179spg1Kcm1+tPz49iSm0CTxCwAutfdwF9Z1WnkbAOc1HAtq3dUd00mwLYt0bRsu5PomBJAad91O+tXx7kqozw6dNzKhrRqZKS7Jys5Pp+EGPPWEhVZTKejNrJuazLpO+Po0GwzAB2bb2T9tsB/t6Rq+cTH7pHVsdVG0rYkM2NBQ/r2WAlA3x4rmbGgYcCyDMqdN80gbUMyX3/bCoC1adW54OoLuPym87j8pvPYlhHHTfeexfasQJW8csfts0hbn8So0XtGQsyaXZ8+fcwDv0+f1cycVT9AOQfSpPCwcMPWh+vQUES6q+pM4CLgB+B6ETnS8c9eBpR9P7wQk4HzQmCmmw3xlQiDH6zHM5+uxuOFSZ+nsG6Fu0/4J2f35MUTpxDpKWF9diL3/9Kbp3pMo0lSFqrCxpxqPDrzeFdlLl+UxC8/1OT1L+ZQUiKsXpbA91/Vc63+ex+YRdt220hMKuDjz75lxEetmTShCSf0SmP6VLeUkaFGYh4PXzQVj0fxiDJlYTNmLG1ETn4UA8+dgdfro7Aogv99GfgojxpJeQy6+ic8Hh8egWlzmjBrYUOWrqrFozf+yBnHL2drRgKPvX2SC2cGrVtu5ZQTV7N6XTJvvzAOgA8+7cCcBe4rvdatttHn5LWsWZPM4DfGAzDso3Z88WUrHhj0C31P+Yut2+J5+tmerssuFw2fUQqih4DWrwpOp9l44CfgOGAlRsFW1mn2IXAGxrK/aH+dZomSol3FlWSd+yW0GR9W7P8gN6kVugwTWW2D0zlUHtFZJSGTFbnz8Mz4MOvPIezM3VROD4j/JCbU065tb9z/gcAPMx+ep6qdApEXCOFu4fpU9YZ9yqZgRi2Ux2BVfTzIbbJYLCHmUBjy5Q/h7sO1WCwWV3y4ItJARKaKyDIRWSIitzvlKSIyWURWOp9V7igJW4WrqmtVtc0BHN9YVdP3f6TFYgkrFPD5uVROMXCXqh4NdANuFpFWwCBgiqo2x7xBD6pqU8NW4VosFguAoIjP59dSGaq6WVXnO+vZwDKgHtAPM8QU5/PcqrY13H24FovFciBDvlJFZG6Z7SGqOmTfg5xO+Q6Ymay1VXWzEaObRaTKkY2swrVYLOFNqUvBP9L3N0pBRBKAr4GBqrpTyptGWkWsS8FisYQ9bgWvEZFIjLL9RFVHOcV/i0hdZ39doMpTEa3CtVgs4Y87oxQEeB9Ypqovl9k1FrjCWb8CGFPVZlqXgsViCXNcm7bbAzN5apGI/O6UPYCZnTpSRK4G0oDzqyrAKtz94aL/pjJ87iRQ8AutUzN0wgApCs2sJYDEbxaETJanwREhk+VbvylksgBWDm0VEjkFD7vw/3Ipa6+q/oKJZ14erkw5tQrXYrGEPeEy08wqXIvFEv5YhWuxWCwhQAGfVbgWi8USAg6NWLf+YBWuxWIJf6zCtVgslhCgQIn/U80OJlbhWiyWMEdBrcK1WCyW0GBdCv8u7nwpja59dpKVHsH1J7cMioxqkQU8c9x0midngsKgGb04vt56Lmi+jO27TGLAlxZ0YfrGRgHJuePO3+jSbRNZWdHceN3pADRtup1bb59LZJSPkhJh8BsdWbE88NQ5A++dS5duW8jKiuam/ztld/nZ/1nF2ef+RYlPmDOrLh+8e0zAssoSGeXjxZHLiIzy4fXCz99XZ8Sr7ub/GnjffLoct4Ws7dHcdOXe4+b7D1jJNTctYcDZp7Nzh//Zof0hFOeW9P1WEqdnAFDYIIat1zZCCn3UeXMtEemFFKdGseXWxvjiQ6Bi7CiFQw8RmQbcrapz93dsVZg0MoWxH6Zyz2tpwagegIe6/MpPGxtw6/RTifSUEOMt5vh66xm2tC3vL23vmpzJkxszduyR3H3v7N1lV1+7kE9GtGHunLp07ryJq69ZyH33BJ4A8YcJjRj3TTPuun/Pz9K2/Va69djETdf0objIS1LyroDl7EtRoXDfxS3ZlefFG+HjpS+XMXdaMn/+nuCajB8mNGTcN02564F5e5Wn1sqjQ6dtbN3iXor0sgT73LyZhSRP2kba/45GozzUfmMNCbO2E7VxF3mtE8g6uw7J47ZQfdzfZAxwL+FopYSJhRu2wWvEcMi0f/HsBLKzgjc/NyGykM61NvPlKmM9F/m8ZBe5axmVsnhRLbKz965bVYiLKwIgLr6IjAx3lMXiP2qSvTNqr7Iz+63my09bUFxkrueOLHezHxuEXXmm/ogIJSJCcfsvu3hhKtk7I/9Rft0ti/ng7dZB1BHBPzd8ihT6oETxFPoorh5J/PwdZB9v3nqyj69B/LwdbkutAAWfz7/lIBNWFq4TFPh7YComO+/vItIZ81LxlKp+4Rx3LyYIhQ/4XlUHlanDg8neu15VHwrtGVSdBgk7ySyI4X/HTaVlSgaLM2ry1JweAFzacjHnNlvB4oyaPDv3OHYWuq+I3327A089O51rrvsdEbhrYPCyGR9RP4fWbTO44polFBZ6Gfr2Maxc7n42Xo9HeWPcEo5otItxw2uz3EXrtiK69thMRnoMa/5KCqqcYJ5bSUoUWWfUovHAJWiUh7w21cg/JhHvzmJKks0DpiQ5Eu/OEMXQUA4JZeoPh4yFeAC0AD4GngLqA+2APsALIlJXRE7HpMDoqqrtgOfLfDcC+ARYUZGyFZHrRGSuiMwtoiCIp3FgeD0+Wqek8+mK1vT79nzyiyO4vs0CPl3empO/uZhzxp3P1rw47u80Iyjyzzx7FUPeac/ll5zDkHfaM/DOOUGRA+D1KgnVCrnjpt68/84x3P/obHDfRsPnE24+sw2Xdm9Pi3Y5NDoqz3UZZYmOLmbAZSsY/v7RQZUDwT03T24x8fN2sPblVqx5vQ1S4CPh10zX6q8SLoRnDAXhqHDXqeosoCfwmaqWqOrfwHSgM0b5fqiqeQCqWvZOeBdYrKpPV1S5qg5R1U6q2imS4LyyV4UtuQlsyYtnYXptACasa0brlHQydsXhUw+KMHLl0bStUeXYyJXS55S1/PqL6Xj5+acGtGiRERQ5AOnbYpnxUz1AWPFnCuoTEpMKgyYvNzuCP2Yl0unE4L4C162XS+26uQz+4Ec+/GIiqTV38frQaVRPcd9HXUowzi12cTbFNaPwJUZChJDbOYnYlbmUJEbgzTJuJ29WESWJIXyBtgo3aOQ6nxWFURMqNodmAL1FJBhOwaCSviuOzbkJNEnMAqB73Q2s2lGdmrG5u485peEaVmS5/+oNkJERwzFttwHQvv1WNm6qFhQ5ALN+OYJ2x5oHR7362URE+ti5I2o/3zowklKKiK9mXnmjon106LmD9X8F97ZYuzqJi/udwVUX9uWqC/uSvi2G267pxfZMd+UG+9yKa0QR/VceUuADVWKX5FB4RAy5xyZR7WfzIK72cwa5xwbXbbIHNaMU/FkOMmHlw92Hn4DrReQjIAU4AbgHKAQeEZFPVTVPRFLKWLnvO8d9KSL/UVXXnEyDBq+lbfccklKKGTF3CcNfrMPEzwMfNlWWJ3/ryUs9pxDpLWF9diKDZvTm4c6/cHRKBgpszKnGw7NOCFjOfffPpG3brSQmFTD8k7EMH96G11/pzPU3LcDr8VFY5OX1VytNC+U39z40m7bt00lMKuDjkeMZMexoJn3fmIH3zuWtDyZTXOTh5ec6UfHztWqk1CrirhdX4/UqIvDTdyn89mN1V2Xc+8gc2nZIJzGpkI+/msCID1sy6bvGrsooj2CfW8GR8eR2TqbBw3+iHqGgcSw7etfAs8tHnTfXkDg9k+IakWy5tYlrMitFQcNk4oPoIWBm+4vTafatqrZx0mE8D5zOPzvNBgGXY5TveFV9oOywMBF5HDgKuEQr+aUSJUW7evoE9ZxKWf1st5DIAThyxPaQyYLQBiD3rV0fMlk2AHngbHp4MAWrNwb0NE2KqKndq/Xz69iJWe/P218SyWASVhauqq4F2jjrirFo7ynnuOcwaTHKlvUqs/5oMNtpsVhCiGrYjFIIK4VrsVgs5RImb+pW4VoslrBHrYVrsVgsoeDQGPLlD1bhWiyW8MYGr7FYLJbQoICWlBzsZvhFOE58sFgslj2oE4Dcn2U/iMhpIrJcRFY5w0tdxVq4Fosl7FEXXAoi4gUGA6cAG4A5IjJWVZcGXLmDtXAtFkv4446F2wVYpaqrVbUQ+Bzwb0aFn4TVTLNQIyLbgHUH+LVUID0IzTnYskItz8r6d8hqpKo1AxEsIhMc+f4QA5SNFjREVYc49fwXOE1Vr3G2L8NEHbwlkPaVxboUKqEqN4KIzA3V1MFQygq1PCvLyvIXVT3NparKm2LsqkVqXQoWi8Vi2AA0KLNdH3A1iIVVuBaLxWKYAzQXkSYiEgUMAMa6KcC6FNxnyGEqK9TyrCwrK6SoarGI3AJMBLzAB6q6xE0ZttPMYrFYQoR1KVgsFkuIsArXYrFYQoRVuJbDHhGJO8jy3c0PdIhxuJ+fm1iFe4CIyL/umoXzH0pE/gNMEJHgZb3cD052EkSkwf6ODSdEpB6Y8wvneySU/OuUx4EgIokicrqI3CAi5wBUlgPNRbnxIpLgrIf0RhaRBBE5UUSuEJFzwf0/lIhUF5HaznrQzk9ETgEGAa+ranaw5FQi31NmvR3wSAhkniIiXUIgpz8wU0TOBqt0/cUq3AoQkbrAvcBtmKzAT4vIDc6+riJyVBBk1hORW4EJwHAROUtDOIzEOecngA+AbOBOZ5gMbrRDROqLyJ3Ad8DXwTw/52ExEsgEFjplkcGQVYF8T+nDWUQmA1mqeq2zHRTFJCL9MPfOsyIStKykjpJ9F5gE9BOR/wOrdP3BKtyK6Ye5PgNV9RngTKCXiFwJXApcLCLxbglz6roBqIFRei8AT4pIL7dk+ME5gA8zuyYRcw1Odx4E4rSzSn8oEUnEnF885kF2NXCLiBzjRsP3kXUG8DTwDMbCHSMivVW1SESSS63rYLGPsv0W85tuFZH2QZR5NvAS8DDwADBERHoEQc4ZmOt6MXATZrLAeWUtXbdlHk5YhVsOziyTc4AZqrpcRCJUNQ34DGgMbAFGqWqui2I7AycCX6jqZFWdgVFQNQNVdv7gWH/nYNLQHw9cBHyNsWIygCQIyIo5DugIfKOqv6jqciAZo3TrunAKADiunyeBp1T1BVVdCPwJlCrZ2sCFIhLtlsx95JdVtt8AMap6LEbpfioiZ7qtlJxz/gR4WFWfUdXZwB9AU5flnIKxbO8H5gNvAe2B34EnROR2N+UdjliFWzE72KNkikWkK9ATYwGOVNU/Sg90SRHWBn5V1WVl6usEHA98JiKnheCVLQNoCKCqfYF84HTgN+BLERnoHNejCi6VdsB8VV0sIpEicjOwEvgLSBWRphDYtRSRmsBzGJ/tZyISISKXAGuBLBF5DeMqGaaqBVWVUxlllO0ozAPmTcdN1AY4DXhRRFq4JU9ETgUeA74vc85NMUZBhIgcKyKtXRL3F3CHqn4LXI65rq+p6oPAf4D2IhLjkqzDEju1txxUtVBEngWGikgO5hX7fCAH+FpVV4rIFeZQ/bhUEQZouawFnhET8HimiDwKXIWxcuOAF0Rkh6rODOjkKsB53X4BGCYiqar6MmYe+XEYq2Ya8LlzPdoAhSLyoKoWVVavY722BMY735+KmaO+CaPgb8e8NfQRkdtUdUIA57BNRPqo6iYxwaTPB47EKNn/AIVAvKpuctq22xp1A8f90xTzplDqOjkVc56XYV7Ff8ZMG3VD3ikYf/vLwDEicgLGSGgN9AGuBL4EThGRWwK5tgCquhpY7Wx2xxgefzrb1wG1gL0eZC78Lw4rrIVbAY4FOwDzqn8p5k/7GvCXiCRj5ltf61ankvMaeBvwiKPMzwd6qOoEVR0FfI+5oYOGqi4CrgBqiEh3jDL8TFW/UdXtwHqgL+bB87KjpPd3D0UBz2IU0OXA9ZhOSA9wHvCQqt6E8ek+Ks5QowDY4nxeBLR15DQE/sZYvitF5AsR6R6EESdbMW6hFap6CkYpbVPVh53yEUAHVV0qIj1FpDMEZNX/BdzmPBy/xvhwTwB6YB4ul6nqjZgH950iUjMAWbsRM4LGW2b7Rkyc2SeBaiLSScyojFIXlNUzpaiqXSpZMIGN7waOAE4ClmOshlsxCvBHzB9aXJJXGzgGeGmf8hlAb6Aa0CLI5xwFnAx8XKbsRIyV+oizv2aZfZWeO8ad8AcwDhiGeZh8Cjzg7PcARwHDgUiXzqE5xqL8HHgUOMop/wTY5uw7MQjXLqLM+rnAVMyD5XPgV6Ces6+zc03O8Oca7kdmaUyUWs61/AG4rsy1PQMY4fJ5HgMsBUYDP2Gs+ieAdzBvQ79g3A9Bu0/DcTnoDQiHxVEwXudGugDjivkBM7zpf+UcH5Dyxfj+lmFeC492lO1QZ9/LGEs7Kcjn3BBjQV2I6SR5E9PzH+W0axLGAvfrnJ0HSTsg1tl+GuhfZv+9pUoB6AA0DfRaYizcp4BWzvYYjCVYagWuA9oH6fp5y/yWizAdd433OeYoR2mdGKAs2efzfaCns14f88B53Nl+AjjepXOsBbTCuLy6YSzsvkA0xrUxDejrHHsa0DmY92w4LNaH6wdqfLpxmOjvxWo60V4G7sP8YRCRnsAuVZ2rGphPV1XnicjdwIPAGmCaqj4gIo9jLJavMa/1OLJd95OpapozBOhajB9yJGaoWh/gGqAYuFlEOqnqa/uTr6p/Y17rS5mFGfbWHvPn7IYZ0/kAZghegog8rKpVjkeqxi30B4CIjMC8pZyA+Z1URCYBQcmvraolzuc8EbkY45KKFDM+OBHoirkekRjf/SWqurYqv2Xp8WW+Nw4YLCIzgFiMsXCtM4rgLsy1LVTjxgrkHLdi3Cg47pGawC9qOiQLROR6YLOInIhxN7whJjPEv9ene7A1fjgtGAttLOaGnoyxnjwYa+0rYDbGpxaonFJLJRHnFRXj1ngV04lVaj1dA5wc5HOuhVH8kZhX008w/tEaGAX2J1Br37b7eX69gHswHUqNnLLvMQq+KWboUcBWETDKqeu+MmXdMO6hNvsc6w3SdTwSWABsxPQJ3IFxORyJeYu5BTjd32vox7Xt7twfJzjb92AmgFyOcRf9RZk3lEDkOcsgYFDpNSzTjlMxlu6VQEIw79VwWA56A8JtcRTQe5ihOJFO2WDn5k50bur+LsuMwvRGnwpEOWX/hxmi1i1E532q86C5GKjhlHUAVmA6vC4MsP4WzucFwPPO+gmOYo8LoN4vgG+BFs7nAEfhZWA6lWDPQ81b5ntHBOEanoyxuP/hg3fOdQlwkrPtSp+AU9e9mDelZmXKXi1V8C7JaOHcC5eVKTsOMyrjtFDco+GwHPQGhONSRuEc53yeiOkBB2OZVdvn+EB9uqX+1OOd7f/DjBPu6mxfCrQL8jnXw3R2pTrbrTAdIx9gfJFzgAFVqFcwVt6yMtdzItDAWW8DvA60rMq1dNpdqlDPxbyJvIHxKTYFGjr7ost8Zwow2eXrV2rxnQ3MBI4psy/O+bwTZySIi3Kfdu6dV8vKA+a5rQgxw/9KH5anOMp2rfP7jXDuFVeNkXBbDnoDwnXBWF6zgAuc7ZlAF2e9P3AjcGWZ4wNVumcA/8O4MnKA7k75tY7ynYDT+RKorEra4HE+j8G8Jj5VZt97mJlOVa37LIw//F5MGuv6GD/nm5gJEqMCURDsccOUtWLvwFiV9cuUfQTMc+t3q6At3TH+/+cxY5x/dR4EI5zPC1yS85hz7Y5zzut09nTivR2sewTognGfXIVxwV2HmcDTGzgvGHLDZTnoDQjnBWN9LcaMGliFGYpUHTP06SpHCd/hHBvwHxczlKisZXsFxud5HeaVblmpIg7iOUc5yv2VMmU3YYYHNa9inaXWX2+MlXeso3BfwfSq98JYT8txRi8EeA5SZv3/cCxz5xx2YnzzHYJ8HTs4sm7DDD2Mca6taz5koAl7LPhzHcX+AfBEedfCRbmNgEswRsnHOG+EdrEKN/ALaF6Hr8NYfVGY17UpmMAvtTAWaSPn2I4E+LqI467A+IzHAueW2TcJOL/Mdjccq9Tlcy47BvcG4EPMTK7oAOr0lFlvCwx1rmO7MuUzSxVhoIoCY4mVlTkC85rdBBMfYBPQMcj3zhnOOZ1Y3nVwUU6pdV+NvS38oLwJlam/9OHcLBjnFY6LnQESIKq6SlWHYHrxL1TVPExQjxZqhs1coqrrRCQVEyqwqtG2xJGX7czGOh8YrqqjxXAXxvqdLiLniMgXmMkZsQGf5D9Jd9p0DWaY2GjgBw0gPoHuiUFwIqZjzufUuVBEPCLyILBaVRc4X4l1jq/S9VRVXxmZE4AjVbWjqq4B0jDWYFCGjDm/l6jqeIyP9QkRSSltl9vydM8QtezSdWdb3Za1D9EY91dUMM4rHLHjcN0jA7hLRDIwY1QvE5GPVPVvETkZY+k21irOZy/751DVjSJyuZqxrQADMe6Moaq61Rnr+R/g/1Q11+1xumXqGo+ZSvuTuhDg2wl8cjJG2U4AHhCRJZihTMuBr8RkcGgKNBSR8ao6MZDzE5FjMcPajnW2G7Bn+vL6fY515TqW1uHU960zNjUz0HoPNRzj4FZV3Xyw23KoYNOku4iY2K4fYDp/Nqnq/Y6y/RK4RVU/3ef4QBSFR1V9InIPxpf8iapOEpHnMLOoXsbEMDhbTfyAoAQRcbte502ghpqwmGdjFHAJplPuCkyHTD5mAP9o4HpV/UlEvGWttyrKbogZ/nYyxvIsxowRjgEmqOrkYFzHf0OAl3/DOfqDVbguIyL1Ma9Qq8WEdJyMmR47GTNUpjnm1fhb5/iAbkQRaYPpSBorIs9jOpjOU9X1YvJ4FWKmrwY0qyjUlF4XEYlUEySnJqZXfyKmY+1mzNC0OsCLqloiIm2BPFVddaCyMP7GKzA9+Y85u37AdNxtxbhnBqrq1MDPzvJvxboUXEZVN8BuX+RUTOCSORi/bjxmXOJVItJYVd8M9KmvqouBxSLSChM/t7fuCYweiZkJtk1EBuieUHqHPKXXRfeEf2wK1FXVz0XkV0yHYQJGCZY4roG5mGFyB6RwHVkFIjIb01m2CjNr8FZV/Rx2W94dML+pxVIlbKdZ8NgCXKSq32AmJqzBhCJ8EDPm9EQpE4i6qp0/ZSjGBIgpDflXHTPrbR7GtTBUgpjnKgRsB+qISEdVXY+JtzAU+N6JxzAFuElV36+qAFVd6Lx5VAdmlSpbh1ZAHux2PVgsB06whj/YxSyYeeVf4wzXYs+sp9rOZ4MyxwY61Kk/xueYjOlkeq3MvhqY6ZytD/Y1CeD8zsFY7GWjjLXBdFje7KKclpjJAT0ww/xecrZjMCMovmZPuMegDq2yy+G1WJdC8InC+FFLr3Xp8K6/RaQWcJ+IrFDV11WrHmXM+d4ox1L+EzNy4PYyhzTDTCsdGtDZHCSc8xsrJuNEhFPWHhOP+BFVHeyWLFX9U0QGYaakLsaMp+6KsaqvxDxEXxCRoao6zi25lsMf22kWApzRCx9jOnc+EZEITDDzHZgEfBMxwb4/cEleGzW+XUQkSk14yVuAQlUdIiZhpFdVd7kh72Dg+GxL/azvuFx3aYddQ2CLc/3OwQTWGY0zxA8Td/YUNdkwLJb9Yi3cEKCqi0TkPKCNmHQjyzCvqMmYzp83MRYUAE5ve76qrqyiyNIYvRGOsojGTJt9xZk0cRVmHOvrpYo5DKkB3Om2soU9aWHUZGpGTFzXSzH+8GmqusOxtH3YfhDLAWAVbohQJwGfY5mtUtX+ACIyHfOnHepst8MMT8oXkee0ChMK1JnVo6rFTtGVmBEM9TDKfRTGql4SyDkdLBwLdDLG0gwKumcW2l0Yn+484GdVTReRI4AXgUmqmhGsNlgOP6zCDT1/Ay0di3cHJoRdXWC8iDTHxGvdCYyvirItRUwSyOaY6cTHY3rYozBBoieUOS7sBqSHqr3OSI8mmDi6ucA7ItIIEzvjC0yYR4vFb6wP9yAgIkdjwjeeBPyGST9Sgom6VQx8o6rzApTRChPqbyImy8AIVd1SZn/YKdqDgTN5RFU1R0xa8kYYX/jHB7lpljDEKtyDhDNC4THgOYwv8BZcUrZlZCQ5/sbSTiCP2iAiVcJeO4sbWIV7EHFGK9TG5IPKBMa6pWyd+ksVrbVmLZZDAOvDPYioyf5bhPHrTnZT2Tr1a9lPi8VycLEW7iGAiERrALFkLRZLeGAVrsVisYQIO2jbYrFYQoRVuBaLxRIirMK1WCyWEGEVrsVisYQIq3AtFoslRFiFa6kyIlIiIr+LyGIR+VJE4gKoa5iI/NdZH+pMTa7o2F4iclwVZKx1UuX4Vb7PMTkHKOsxEbn7QNtoObyxCtcSCPmq2l5V22CCrN9QdqeIeKtSqapeo6pLKzmkF3DACtdiOdhYhWtxi5+BIx3rc6qIfAosEhGviLwgInNE5A8ntixieFNElorId5isCjj7polIJ2f9NBGZLyILRWSKiDTGKPY7HOv6eBGpKSJfOzLmiEgP57s1RGSSiCwQkXdxsm1UhoiMFpF5IrJERK7bZ99LTlumiMkijIg0E5EJznd+FpGWrlxNy2GJndprCRgnJsTpQGnYxy5AG1Vd4yitHara2QmE/quITMJkwG0BHIOJJ7EU+GCfemsC7wEnOHWlqGqmiLwD5Kjqi85xnwKvqOovTpaGicDRwKPAL6r6hIiciQmruD/+z5ERC8wRka+dmLfxwHxVvUtEHnHqvgUYAtygqitFpCsmO/NJVbiMln8BVuFaAiFWRH531n/GpJw5DvhNVdc45acCbUv9s0ASJk7vCcBnqloCbBKRH8upvxsmN9saAFXNrKAdfYBWsifxcaITVvEETGJNVPU7EfEnFc5tIvIfZ72B09YMTES3L5zyEcAoEUlwzvfLMrKj/ZBh+ZdiFa4lEPJVtX3ZAkfx5JYtwuQdm7jPcWcA+5tXLn4cA8Y11l1V88tpi99z10WkF0Z5d1fVPBGZhsnUWx7qyM3a9xpYLBVhfbiWYDMRuFFM4kpE5CgRiQd+AgY4Pt66mJxr+zITOFFEmjjfTXHKs4FqZY6bhHm9xzmuvbP6E3CJU3Y6UH0/bU0CtjvKtiXGwi7FA5Ra6RdjXBU7gTUicr4jQ8SkSLJYysUqXEuwGYrxz84XkcXAu5g3q2+AlZhkmm8D0/f9oqpuw/hdR4nIQva80o8D/lPaaQbcBnRyOuWWsme0xOPACSIyH+PaSNtPWycAESLyByYLx6wy+3KB1iIyD+OjfcIpvwS42mnfEqCfH9fE8i/FRguzWCyWEGEtXIvFYgkRVuFaLBZLiLAK12KxWEKEVbgWi8USIqzCtVgslhBhFa7FYrGECKtwLRaLJUT8PwI264Zdmt2oAAAAAElFTkSuQmCC\n",
      "text/plain": [
       "<Figure size 432x288 with 2 Axes>"
      ]
     },
     "metadata": {
      "needs_background": "light"
     },
     "output_type": "display_data"
    }
   ],
   "source": [
    "plot_confusion_matrix(onevrest_classifier, X_test, y_test)\n",
    "plt.xticks(rotation = -45);\n",
    "y_pred = onevrest_classifier.predict(X_test)\n",
    "print(onevrest_classifier.score(X_test,y_test))\n",
    "print(classification_report(y_test, y_pred, digits=3))"
   ]
  },
  {
   "cell_type": "markdown",
   "metadata": {},
   "source": [
    "As you can tell from above, although the algorithm did a great job at identifying classical and EDM music, it did very poor in any other genres hence resulting with a 0.411875 f1-score. Because of that, we decide to try LogisticRegression model on our dataset.\n",
    "\n",
    "### LogisticRegression\n",
    "\n",
    "Since we are using ovr with a relatively small dataset, we would  use liblinear as our solver and gridsearch the C value with max iterations set at 1000. For the grid search, we would use a 5x5 repeatedKFold."
   ]
  },
  {
   "cell_type": "code",
   "execution_count": 36,
   "metadata": {},
   "outputs": [
    {
     "name": "stdout",
     "output_type": "stream",
     "text": [
      "Fitting 25 folds for each of 5 candidates, totalling 125 fits\n",
      "[0.405175 0.4759   0.4816   0.48325  0.484775]\n"
     ]
    }
   ],
   "source": [
    "from sklearn.model_selection import GridSearchCV,RepeatedKFold\n",
    "\n",
    "params = {'C':[0.01,0.5,1,5,10]}\n",
    "clf = LogisticRegression(solver = 'liblinear',multi_class = 'ovr',max_iter = 1000)\n",
    "rkf = RepeatedKFold(n_splits = 5, n_repeats = 5)\n",
    "clf1 = GridSearchCV(clf,params,cv = rkf,verbose = 1)\n",
    "clf1.fit(X,y)\n",
    "\n",
    "print(clf1.cv_results_[\"mean_test_score\"])"
   ]
  },
  {
   "cell_type": "markdown",
   "metadata": {},
   "source": [
    "As the above grid search result shows that a C value of 10 generates the best score."
   ]
  },
  {
   "cell_type": "code",
   "execution_count": 37,
   "metadata": {},
   "outputs": [
    {
     "name": "stdout",
     "output_type": "stream",
     "text": [
      "0.4825\n",
      "              precision    recall  f1-score   support\n",
      "\n",
      "   classical      0.848     0.755     0.799       200\n",
      "     country      0.311     0.165     0.216       200\n",
      "         edm      0.457     0.530     0.491       200\n",
      "      gospel      0.496     0.625     0.553       200\n",
      "     hip-hop      0.482     0.680     0.564       200\n",
      "        jazz      0.465     0.635     0.537       200\n",
      "         pop      0.275     0.125     0.172       200\n",
      "        rock      0.371     0.345     0.358       200\n",
      "\n",
      "    accuracy                          0.482      1600\n",
      "   macro avg      0.463     0.483     0.461      1600\n",
      "weighted avg      0.463     0.482     0.461      1600\n",
      "\n"
     ]
    },
    {
     "data": {
      "image/png": "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\n",
      "text/plain": [
       "<Figure size 432x288 with 2 Axes>"
      ]
     },
     "metadata": {
      "needs_background": "light"
     },
     "output_type": "display_data"
    }
   ],
   "source": [
    "clf = LogisticRegression(solver = 'liblinear',multi_class = 'ovr',max_iter = 1000,C = 10,random_state = 42).fit(X_train, y_train)\n",
    "plot_confusion_matrix(clf, X_test, y_test)\n",
    "plt.xticks(rotation = -45);\n",
    "y_pred = clf.predict(X_test)\n",
    "print(clf.score(X_test,y_test))\n",
    "print(classification_report(y_test, y_pred, digits=3))"
   ]
  },
  {
   "cell_type": "markdown",
   "metadata": {},
   "source": [
    "The F1-score shows a higher accuracy by using a logistic regression model compare to using a onevsrest model after gridsearch the most opotimal hyper-parameter. However, the accuray is still not ideal as 48.6% is still consider low in term of accuracy. \n",
    "\n",
    "### RandomForestClassifier\n",
    "\n",
    "Lastly, we decide to use a random forest classfier to see if we could yield better result."
   ]
  },
  {
   "cell_type": "code",
   "execution_count": 38,
   "metadata": {},
   "outputs": [],
   "source": [
    "rf = RandomForestClassifier(random_state = 42, n_jobs=-1).fit(X_train, y_train)"
   ]
  },
  {
   "cell_type": "code",
   "execution_count": 39,
   "metadata": {},
   "outputs": [
    {
     "name": "stdout",
     "output_type": "stream",
     "text": [
      "0.675\n",
      "              precision    recall  f1-score   support\n",
      "\n",
      "   classical      0.918     0.845     0.880       200\n",
      "     country      0.688     0.605     0.644       200\n",
      "         edm      0.668     0.705     0.686       200\n",
      "      gospel      0.627     0.690     0.657       200\n",
      "     hip-hop      0.638     0.705     0.670       200\n",
      "        jazz      0.715     0.765     0.739       200\n",
      "         pop      0.472     0.420     0.444       200\n",
      "        rock      0.679     0.665     0.672       200\n",
      "\n",
      "    accuracy                          0.675      1600\n",
      "   macro avg      0.676     0.675     0.674      1600\n",
      "weighted avg      0.676     0.675     0.674      1600\n",
      "\n"
     ]
    },
    {
     "data": {
      "image/png": "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\n",
      "text/plain": [
       "<Figure size 432x288 with 2 Axes>"
      ]
     },
     "metadata": {
      "needs_background": "light"
     },
     "output_type": "display_data"
    }
   ],
   "source": [
    "plot_confusion_matrix(rf, X_test, y_test)\n",
    "plt.xticks(rotation = -45);\n",
    "y_pred = rf.predict(X_test)\n",
    "print(rf.score(X_test,y_test))\n",
    "print(classification_report(y_test, y_pred, digits=3))"
   ]
  },
  {
   "cell_type": "markdown",
   "metadata": {},
   "source": [
    "As we compare those benchmark models above, RandomForestClassifier clearly yields the best result with a 0.675 accuracy score, which is significantly higher thant LogisticRegression and OneVsRestClassfier. "
   ]
  },
  {
   "cell_type": "markdown",
   "metadata": {},
   "source": [
    "# Discussion\n",
    "\n",
    "### Interpreting the result\n",
    "\n",
    "As the results showing above, RandomForest classifier yields the best accuracy score of around \n",
    "0.675 on the testing data sets, which is around 50% percent higher than the accuracy score yielded by Logistic Regression and OneVsRest classifier. This can be attributed to the fact that random forest can handle high-dimensional data better compared to logistic regression and OneVsRest Classification. RandomForest classifier is also better at handling non-linear data which seems to be the case here. Logistic regression, after grid searching for the best parameters, has an accuracy of around 49% on the testing data sets. OneVsRest Classifier has the lowest accuracy of 42% due to the limitation on the variation of the hyper-parameter. So in this case, RandomForest classifier is the most optimal model on predicting the genres of music while providing a large set of datas and variables. \n",
    "\n",
    "\n",
    "### Limitations\n",
    "\n",
    "There are several points to mention regarding the limitations of this project, including low accuracy, inconsistent accuracies between genres, the problem of overfitting, and the amount of data. \n",
    "\n",
    "Firstly, our accuracy score is relatively low, at 69.4%. This is significantly higher than chance (1/8 = 12.5%) and a noticeable improvement from our earlier models, but not particularly reliable and certainly not as good as human performance. \n",
    "\n",
    "Secondly, the accuracies are obviously different between genres – for instance, classical has the highest f1-score (88.0%) in contrast to pop, which has an f1-score of (44.4%). While there are a variety of reasons why this might be the case, it does not accomplish our goal of making a model that performs roughly equally for all genres.\n",
    "\n",
    "Thirdly, we noticed that there was an issue regarding overfitting for the random forest model. Our model performs nearly perfect when testing against the training set, whereas it performs significantly worse when against the testing set (69.4%). This indicates that our random forest model, despite having the best performace, was probably too complex and did not generalize well to the data.\n",
    "\n",
    "Lastly, while our amount of data is appropriate for this project (1000 observations, 8 features), we arguably could have achieved better results with more data, whether by adding more genres or by adding more observations.  \n",
    "\n",
    "### Ethics & Privacy\n",
    "\n",
    "There were a variety of ethical issues to consider, including privacy concerns, managing dataset bias, avoiding unreasonable conclusions, and setting realistic expectations as to what our tool would actually be capable of.\n",
    "\n",
    "Privacy concerns were probably the easiest to manage. In order to avoid privacy breaches, we made sure that the data we worked with did not cross into personal user information.\n",
    "\n",
    "Dataset bias was a more significant issue to consider. Because we aimed to make a tool to be used by all music listeners, we would ideally want it to be equally useful for everyone. However, since our model is trained on certain genres of music more than others, and certain genres might \"bleed into\" other genres, it will obviously have an easier time identifying specific genres over others. This is an especially important issue to consider in terms of equality – since different demographics of people tend to listen to different genres<a name=\"demographic\"></a>[<sup>[3]</sup>](#demographicnote), it is important to make sure that our tool does not favor one demographic over another. To avoid this as much as possible, we included a variety of genres and made sure that there was a fair number of songs to represent each one. However, as mentioned in the limitations, our model did, in fact, end up performing better when identifying certain genres over others. \n",
    "\n",
    "On that note, it is also important that the findings we came across in our project do not lead to erroneous conclusions. While our project did perform better identifying certain genres, it must be made clear that this does not imply that said genres are \"more unique\" than others. While it is possible that some genres tend to \"blend\" with others, it is very possible that our choice of genres and the songs in the dataset simply do not offer the model a way to distinguish them fairly.\n",
    "\n",
    "Lastly, we also made it clear in our paper what our tool can be expected to do, and were very clear about its limitations, so as not to mislead readers.\n",
    "\n",
    "### Conclusion\n",
    "\n",
    "Predicting the genre of a song is a complex task that requires an in-depth understanding of music theory and the various elements that define different genres. In this context, we utilized the data from Spotify to train a model that could accurately classify songs into different genres. After conducting several trials, we determined that the Random Forest algorithm yielded the best result, with an accuracy score of 0.694. While this accuracy score may not be as high as we had initially hoped, it is still a relatively impressive feat, given that even humans sometimes struggle to differentiate between various music genres.\n",
    "\n",
    "It is important to note that the accuracy of the model is influenced by a number of factors, including the quality and quantity of the data used for training, the specific parameters selected for the algorithm, and the complexity of the classification task. We will continue to refine and optimize our model to improve its accuracy and enhance its ability to classify songs across different genres.\n",
    "\n",
    "Overall, our approach represents a significant step forward in the field of music classification and has the potential to unlock new insights into the relationships between different genres of music. We look forward to continuing our research and exploring new ways to harness the power of data and machine learning to improve our understanding of music and its many nuances."
   ]
  },
  {
   "cell_type": "markdown",
   "metadata": {},
   "source": [
    "# Footnotes\n",
    "<a name=\"mustomorrownote\"></a>1.[^](#mustomorrow): Pastukhov, D. (9 Feb 2022). Inside Spotify’s Recommender System: A Complete Guide to Spotify Recommendation Algorithms. *Music Tomorrow*. https://www.music-tomorrow.com/blog/how-spotify-recommendation-system-works-a-complete-guide-2022.<br> \n",
    "<a name=\"merriamnote\"></a>2.[^](#merriam): Genre Definition. *Merriam-Webster*. https://www.merriam-webster.com/dictionary/genre.<br>\n",
    "<a name=\"demographicnote\"></a>3.[^](#demographic): (2022). Demographic Music Interest. *Cloud Cover Music*. https://cloudcovermusic.com/music-fan-demographics/#:~:text=What%20demographic%20listens%20to%20music,adults%2C%20ages%2016%E2%80%9324."
   ]
  },
  {
   "cell_type": "code",
   "execution_count": null,
   "metadata": {},
   "outputs": [],
   "source": []
  }
 ],
 "metadata": {
  "kernelspec": {
   "display_name": "Python 3 (ipykernel)",
   "language": "python",
   "name": "python3"
  },
  "language_info": {
   "codemirror_mode": {
    "name": "ipython",
    "version": 3
   },
   "file_extension": ".py",
   "mimetype": "text/x-python",
   "name": "python",
   "nbconvert_exporter": "python",
   "pygments_lexer": "ipython3",
   "version": "3.9.5"
  }
 },
 "nbformat": 4,
 "nbformat_minor": 2
}
